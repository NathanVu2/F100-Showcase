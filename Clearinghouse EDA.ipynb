{
 "cells": [
  {
   "cell_type": "code",
   "execution_count": 1,
   "id": "5e25419c",
   "metadata": {},
   "outputs": [],
   "source": [
    "import itertools\n",
    "import numpy as np\n",
    "import matplotlib.pyplot as plt\n",
    "from matplotlib.ticker import NullFormatter\n",
    "import pandas as pd\n",
    "import numpy as np\n",
    "import matplotlib.ticker as ticker\n",
    "import seaborn as sns\n",
    "from sklearn import preprocessing\n",
    "%matplotlib inline\n",
    "from sklearn import svm\n",
    "from sklearn import metrics\n",
    "from sklearn.metrics import f1_score\n",
    "from sklearn.metrics import jaccard_score\n",
    "from sklearn.model_selection import train_test_split\n",
    "from sklearn.neighbors import KNeighborsClassifier\n",
    "from sklearn.tree import DecisionTreeClassifier\n",
    "from sklearn.linear_model import LogisticRegression\n",
    "from sklearn.metrics import log_loss\n",
    "from sklearn.metrics import classification_report, confusion_matrix"
   ]
  },
  {
   "cell_type": "markdown",
   "id": "c8d27a92",
   "metadata": {},
   "source": [
    "# Loading in the dataset"
   ]
  },
  {
   "cell_type": "markdown",
   "id": "9be03800",
   "metadata": {},
   "source": [
    "- We use pandas as our main package for data manipulation and analysis\n",
    "- Dataset has been pre-cleaned in excel:\n",
    "    - Removed any rows with empty cells\n",
    "    - Removed uneccessary columns \n",
    "        - e.g. Secondary product involvement, secondary victim involvement \n",
    "    - Split Product Hazard into its two categories; overall product hazard type, and its specific hazard\n",
    "    - Changed relevant columns from numerical data to categorical using conversion table provided\n",
    "        - e.g. For Severity: <br/>\n",
    "            0 - Death, <br/>\n",
    "            1 - Hospital Admission, <br/>\n",
    "            2 - First Aid Received by Non-Medical Professional, <br/>\n",
    "            3 - No First Aid or Medical Attention Received,<br/>\n",
    "            4 - Emergency Department Treatment Received,<br/>\n",
    "            5 - Seen by Medical Professional,<br/>\n",
    "            6 - Level of care not known,<br/>\n",
    "            7 - Incident  No Injury"
   ]
  },
  {
   "cell_type": "code",
   "execution_count": 2,
   "id": "678f53dc",
   "metadata": {},
   "outputs": [
    {
     "data": {
      "text/html": [
       "<div>\n",
       "<style scoped>\n",
       "    .dataframe tbody tr th:only-of-type {\n",
       "        vertical-align: middle;\n",
       "    }\n",
       "\n",
       "    .dataframe tbody tr th {\n",
       "        vertical-align: top;\n",
       "    }\n",
       "\n",
       "    .dataframe thead th {\n",
       "        text-align: right;\n",
       "    }\n",
       "</style>\n",
       "<table border=\"1\" class=\"dataframe\">\n",
       "  <thead>\n",
       "    <tr style=\"text-align: right;\">\n",
       "      <th></th>\n",
       "      <th>STATE</th>\n",
       "      <th>INCIDENT YEAR</th>\n",
       "      <th>INCIDENT MONTH</th>\n",
       "      <th>PRODUCT 1</th>\n",
       "      <th>PRODUCT HAZARD TYPE</th>\n",
       "      <th>PRODUCT HAZARD</th>\n",
       "      <th>VICTIM 1 GENDER</th>\n",
       "      <th>VICTIM 1 AGE YEARS</th>\n",
       "      <th>VICTIM 1 INJURY</th>\n",
       "      <th>VICTIM 1 BODY PART</th>\n",
       "      <th>VICTIM 1 SEVERITY</th>\n",
       "      <th>INCIDENT DESCRIPTION</th>\n",
       "    </tr>\n",
       "  </thead>\n",
       "  <tbody>\n",
       "    <tr>\n",
       "      <th>0</th>\n",
       "      <td>SC</td>\n",
       "      <td>2001.0</td>\n",
       "      <td>8.0</td>\n",
       "      <td>Pressure Cookers or Canners (412)</td>\n",
       "      <td>Thermal</td>\n",
       "      <td>Hot Liquid or Steam</td>\n",
       "      <td>Female</td>\n",
       "      <td>69</td>\n",
       "      <td>Burn-Scald</td>\n",
       "      <td>Trunk</td>\n",
       "      <td>Hospital Admission</td>\n",
       "      <td>69 YOF WAS COOKING IN PRESSURE COOKER. POT STA...</td>\n",
       "    </tr>\n",
       "    <tr>\n",
       "      <th>1</th>\n",
       "      <td>PA</td>\n",
       "      <td>2001.0</td>\n",
       "      <td>9.0</td>\n",
       "      <td>Oven Cleaners (942)</td>\n",
       "      <td>Chemical</td>\n",
       "      <td>Poisoning</td>\n",
       "      <td>Female</td>\n",
       "      <td>17</td>\n",
       "      <td>Poisoning</td>\n",
       "      <td>All Parts of the body</td>\n",
       "      <td>Death</td>\n",
       "      <td>28 YOF DECEDENT  WHEN SHE WAS 17 YO  INGESTED ...</td>\n",
       "    </tr>\n",
       "    <tr>\n",
       "      <th>2</th>\n",
       "      <td>MA</td>\n",
       "      <td>2001.0</td>\n",
       "      <td>11.0</td>\n",
       "      <td>Gas Ranges or Ovens (279)</td>\n",
       "      <td>Thermal</td>\n",
       "      <td>Hot surface</td>\n",
       "      <td>Female</td>\n",
       "      <td>40</td>\n",
       "      <td>Burn-Thermal</td>\n",
       "      <td>Hand</td>\n",
       "      <td>No First Aid or Medical Attention Received</td>\n",
       "      <td>THE CONSUMER REPORTED SEVERAL ISSUES WITH HER ...</td>\n",
       "    </tr>\n",
       "    <tr>\n",
       "      <th>3</th>\n",
       "      <td>CA</td>\n",
       "      <td>2001.0</td>\n",
       "      <td>11.0</td>\n",
       "      <td>Ladders  Other or Not Specified (4078)</td>\n",
       "      <td>Mechanical</td>\n",
       "      <td>Fall</td>\n",
       "      <td>Male</td>\n",
       "      <td>60</td>\n",
       "      <td>Internal Organ Injury</td>\n",
       "      <td>Head</td>\n",
       "      <td>Death</td>\n",
       "      <td>73 YOM DECEDENT FELL FROM LADDER WHEN HE WAS 6...</td>\n",
       "    </tr>\n",
       "    <tr>\n",
       "      <th>4</th>\n",
       "      <td>FL</td>\n",
       "      <td>2001.0</td>\n",
       "      <td>10.0</td>\n",
       "      <td>House Repair or Construction Materials nec (1876)</td>\n",
       "      <td>Mechanical</td>\n",
       "      <td>Struck by</td>\n",
       "      <td>Male</td>\n",
       "      <td>45</td>\n",
       "      <td>Other/Not Stated</td>\n",
       "      <td>Unspecified</td>\n",
       "      <td>Death</td>\n",
       "      <td>THE MALE SUBJECT WAS STRUCK BY ROOFING MATERIA...</td>\n",
       "    </tr>\n",
       "  </tbody>\n",
       "</table>\n",
       "</div>"
      ],
      "text/plain": [
       "  STATE  INCIDENT YEAR  INCIDENT MONTH  \\\n",
       "0    SC         2001.0             8.0   \n",
       "1    PA         2001.0             9.0   \n",
       "2    MA         2001.0            11.0   \n",
       "3    CA         2001.0            11.0   \n",
       "4    FL         2001.0            10.0   \n",
       "\n",
       "                                           PRODUCT 1 PRODUCT HAZARD TYPE  \\\n",
       "0                  Pressure Cookers or Canners (412)            Thermal    \n",
       "1                                Oven Cleaners (942)           Chemical    \n",
       "2                          Gas Ranges or Ovens (279)            Thermal    \n",
       "3             Ladders  Other or Not Specified (4078)         Mechanical    \n",
       "4  House Repair or Construction Materials nec (1876)         Mechanical    \n",
       "\n",
       "        PRODUCT HAZARD  VICTIM 1 GENDER  VICTIM 1 AGE YEARS  \\\n",
       "0   Hot Liquid or Steam          Female                  69   \n",
       "1            Poisoning           Female                  17   \n",
       "2           Hot surface          Female                  40   \n",
       "3                  Fall            Male                  60   \n",
       "4             Struck by            Male                  45   \n",
       "\n",
       "         VICTIM 1 INJURY     VICTIM 1 BODY PART  \\\n",
       "0             Burn-Scald                  Trunk   \n",
       "1              Poisoning  All Parts of the body   \n",
       "2           Burn-Thermal                   Hand   \n",
       "3  Internal Organ Injury                   Head   \n",
       "4       Other/Not Stated            Unspecified   \n",
       "\n",
       "                            VICTIM 1 SEVERITY  \\\n",
       "0                          Hospital Admission   \n",
       "1                                       Death   \n",
       "2  No First Aid or Medical Attention Received   \n",
       "3                                       Death   \n",
       "4                                       Death   \n",
       "\n",
       "                                INCIDENT DESCRIPTION  \n",
       "0  69 YOF WAS COOKING IN PRESSURE COOKER. POT STA...  \n",
       "1  28 YOF DECEDENT  WHEN SHE WAS 17 YO  INGESTED ...  \n",
       "2  THE CONSUMER REPORTED SEVERAL ISSUES WITH HER ...  \n",
       "3  73 YOM DECEDENT FELL FROM LADDER WHEN HE WAS 6...  \n",
       "4  THE MALE SUBJECT WAS STRUCK BY ROOFING MATERIA...  "
      ]
     },
     "execution_count": 2,
     "metadata": {},
     "output_type": "execute_result"
    }
   ],
   "source": [
    "df = pd.read_excel('CPSC Clearinghouse.xlsx')\n",
    "df.head()"
   ]
  },
  {
   "cell_type": "markdown",
   "id": "ed667c3f",
   "metadata": {},
   "source": [
    "# Data Wrangling"
   ]
  },
  {
   "cell_type": "markdown",
   "id": "e96496ad",
   "metadata": {},
   "source": [
    "Data columns are renamed for clarity. \n",
    "Furthermore, trailing whitespace in column names was found during modelling, which created errors.\n",
    "\n",
    "Three types of severity was dropped from our dataset:\n",
    "- Death\n",
    "- Level of care not known\n",
    "- Incident, no injury <br/>\n",
    "The first being that we are interested in classifying <u>preventable</u> cases into energency and non-emergency. "
   ]
  },
  {
   "cell_type": "code",
   "execution_count": 3,
   "id": "4cfbaeee",
   "metadata": {},
   "outputs": [
    {
     "data": {
      "text/html": [
       "<div>\n",
       "<style scoped>\n",
       "    .dataframe tbody tr th:only-of-type {\n",
       "        vertical-align: middle;\n",
       "    }\n",
       "\n",
       "    .dataframe tbody tr th {\n",
       "        vertical-align: top;\n",
       "    }\n",
       "\n",
       "    .dataframe thead th {\n",
       "        text-align: right;\n",
       "    }\n",
       "</style>\n",
       "<table border=\"1\" class=\"dataframe\">\n",
       "  <thead>\n",
       "    <tr style=\"text-align: right;\">\n",
       "      <th></th>\n",
       "      <th>STATE</th>\n",
       "      <th>INCIDENT YEAR</th>\n",
       "      <th>INCIDENT MONTH</th>\n",
       "      <th>PRODUCT</th>\n",
       "      <th>PRODUCT HAZARD TYPE</th>\n",
       "      <th>PRODUCT HAZARD</th>\n",
       "      <th>GENDER</th>\n",
       "      <th>AGE</th>\n",
       "      <th>INJURY</th>\n",
       "      <th>BODY PART</th>\n",
       "      <th>SEVERITY</th>\n",
       "      <th>INCIDENT DESCRIPTION</th>\n",
       "    </tr>\n",
       "  </thead>\n",
       "  <tbody>\n",
       "    <tr>\n",
       "      <th>0</th>\n",
       "      <td>SC</td>\n",
       "      <td>2001.0</td>\n",
       "      <td>8.0</td>\n",
       "      <td>Pressure Cookers or Canners (412)</td>\n",
       "      <td>Thermal</td>\n",
       "      <td>Hot Liquid or Steam</td>\n",
       "      <td>Female</td>\n",
       "      <td>69</td>\n",
       "      <td>Burn-Scald</td>\n",
       "      <td>Trunk</td>\n",
       "      <td>Hospital Admission</td>\n",
       "      <td>69 YOF WAS COOKING IN PRESSURE COOKER. POT STA...</td>\n",
       "    </tr>\n",
       "    <tr>\n",
       "      <th>1</th>\n",
       "      <td>PA</td>\n",
       "      <td>2001.0</td>\n",
       "      <td>9.0</td>\n",
       "      <td>Oven Cleaners (942)</td>\n",
       "      <td>Chemical</td>\n",
       "      <td>Poisoning</td>\n",
       "      <td>Female</td>\n",
       "      <td>17</td>\n",
       "      <td>Poisoning</td>\n",
       "      <td>All Parts of the body</td>\n",
       "      <td>Death</td>\n",
       "      <td>28 YOF DECEDENT  WHEN SHE WAS 17 YO  INGESTED ...</td>\n",
       "    </tr>\n",
       "    <tr>\n",
       "      <th>2</th>\n",
       "      <td>MA</td>\n",
       "      <td>2001.0</td>\n",
       "      <td>11.0</td>\n",
       "      <td>Gas Ranges or Ovens (279)</td>\n",
       "      <td>Thermal</td>\n",
       "      <td>Hot surface</td>\n",
       "      <td>Female</td>\n",
       "      <td>40</td>\n",
       "      <td>Burn-Thermal</td>\n",
       "      <td>Hand</td>\n",
       "      <td>No First Aid or Medical Attention Received</td>\n",
       "      <td>THE CONSUMER REPORTED SEVERAL ISSUES WITH HER ...</td>\n",
       "    </tr>\n",
       "    <tr>\n",
       "      <th>3</th>\n",
       "      <td>CA</td>\n",
       "      <td>2001.0</td>\n",
       "      <td>11.0</td>\n",
       "      <td>Ladders  Other or Not Specified (4078)</td>\n",
       "      <td>Mechanical</td>\n",
       "      <td>Fall</td>\n",
       "      <td>Male</td>\n",
       "      <td>60</td>\n",
       "      <td>Internal Organ Injury</td>\n",
       "      <td>Head</td>\n",
       "      <td>Death</td>\n",
       "      <td>73 YOM DECEDENT FELL FROM LADDER WHEN HE WAS 6...</td>\n",
       "    </tr>\n",
       "    <tr>\n",
       "      <th>4</th>\n",
       "      <td>FL</td>\n",
       "      <td>2001.0</td>\n",
       "      <td>10.0</td>\n",
       "      <td>House Repair or Construction Materials nec (1876)</td>\n",
       "      <td>Mechanical</td>\n",
       "      <td>Struck by</td>\n",
       "      <td>Male</td>\n",
       "      <td>45</td>\n",
       "      <td>Other/Not Stated</td>\n",
       "      <td>Unspecified</td>\n",
       "      <td>Death</td>\n",
       "      <td>THE MALE SUBJECT WAS STRUCK BY ROOFING MATERIA...</td>\n",
       "    </tr>\n",
       "  </tbody>\n",
       "</table>\n",
       "</div>"
      ],
      "text/plain": [
       "  STATE  INCIDENT YEAR  INCIDENT MONTH  \\\n",
       "0    SC         2001.0             8.0   \n",
       "1    PA         2001.0             9.0   \n",
       "2    MA         2001.0            11.0   \n",
       "3    CA         2001.0            11.0   \n",
       "4    FL         2001.0            10.0   \n",
       "\n",
       "                                             PRODUCT PRODUCT HAZARD TYPE  \\\n",
       "0                  Pressure Cookers or Canners (412)            Thermal    \n",
       "1                                Oven Cleaners (942)           Chemical    \n",
       "2                          Gas Ranges or Ovens (279)            Thermal    \n",
       "3             Ladders  Other or Not Specified (4078)         Mechanical    \n",
       "4  House Repair or Construction Materials nec (1876)         Mechanical    \n",
       "\n",
       "        PRODUCT HAZARD   GENDER  AGE                 INJURY  \\\n",
       "0   Hot Liquid or Steam  Female   69             Burn-Scald   \n",
       "1            Poisoning   Female   17              Poisoning   \n",
       "2           Hot surface  Female   40           Burn-Thermal   \n",
       "3                  Fall    Male   60  Internal Organ Injury   \n",
       "4             Struck by    Male   45       Other/Not Stated   \n",
       "\n",
       "               BODY PART                                    SEVERITY  \\\n",
       "0                  Trunk                          Hospital Admission   \n",
       "1  All Parts of the body                                       Death   \n",
       "2                   Hand  No First Aid or Medical Attention Received   \n",
       "3                   Head                                       Death   \n",
       "4            Unspecified                                       Death   \n",
       "\n",
       "                                INCIDENT DESCRIPTION  \n",
       "0  69 YOF WAS COOKING IN PRESSURE COOKER. POT STA...  \n",
       "1  28 YOF DECEDENT  WHEN SHE WAS 17 YO  INGESTED ...  \n",
       "2  THE CONSUMER REPORTED SEVERAL ISSUES WITH HER ...  \n",
       "3  73 YOM DECEDENT FELL FROM LADDER WHEN HE WAS 6...  \n",
       "4  THE MALE SUBJECT WAS STRUCK BY ROOFING MATERIA...  "
      ]
     },
     "execution_count": 3,
     "metadata": {},
     "output_type": "execute_result"
    }
   ],
   "source": [
    "#Rename columns for clarity\n",
    "df.rename({'PRODUCT 1':'PRODUCT', \n",
    "           'VICTIM 1 GENDER':'GENDER', \n",
    "           'VICTIM 1 AGE YEARS' : 'AGE', \n",
    "           'VICTIM 1 INJURY' : 'INJURY',\n",
    "           'VICTIM 1 BODY PART' : 'BODY PART',\n",
    "           'VICTIM 1 SEVERITY' : 'SEVERITY'},\n",
    "            axis=1,\n",
    "            inplace=True)\n",
    "df.head()"
   ]
  },
  {
   "cell_type": "code",
   "execution_count": 4,
   "id": "5e139cfc",
   "metadata": {},
   "outputs": [
    {
     "data": {
      "text/plain": [
       "Death                                             69029\n",
       "Hospital Admission                                 5218\n",
       "First Aid Received by Non-Medical Professional     2813\n",
       "No First Aid or Medical Attention Received         2595\n",
       "Emergency Department Treatment Received            2499\n",
       "Seen by Medical Professional                       1948\n",
       "Level of care not known                             892\n",
       "Incident  No Injury                                   1\n",
       "Name: SEVERITY, dtype: int64"
      ]
     },
     "execution_count": 4,
     "metadata": {},
     "output_type": "execute_result"
    }
   ],
   "source": [
    "df['SEVERITY'].value_counts()"
   ]
  },
  {
   "cell_type": "code",
   "execution_count": 5,
   "id": "213f371f",
   "metadata": {},
   "outputs": [],
   "source": [
    "df.drop(df[df.SEVERITY == 'Death'].index, inplace=True)\n",
    "df.drop(df[df.SEVERITY == 'Level of care not known'].index, inplace=True)\n",
    "df.drop(df[df.SEVERITY == 'Incident  No Injury'].index, inplace=True)"
   ]
  },
  {
   "cell_type": "code",
   "execution_count": 6,
   "id": "6e67edd7",
   "metadata": {},
   "outputs": [],
   "source": [
    "#Delete trailing whitespace in column names\n",
    "df.columns = df.columns.str.rstrip()"
   ]
  },
  {
   "cell_type": "markdown",
   "id": "4be9ac98",
   "metadata": {},
   "source": [
    "# Preparation"
   ]
  },
  {
   "cell_type": "markdown",
   "id": "d9807093",
   "metadata": {},
   "source": [
    "The dataset is sliced into the independent variables and the dependent variable we are interested in predicting using our model.\n",
    "\n",
    "The independent variables used are (we are assuming these variables are independent):\n",
    "- Age, gender, product hazard, injury, and body part\n",
    "\n",
    "The dependent variable used is:\n",
    "- Severity \n",
    "\n",
    "The independent variables are broken down into dummy variables and normalised.\n",
    "\n",
    "Finally the subset is split into a test and train set to discourage the model overfitting the data."
   ]
  },
  {
   "cell_type": "code",
   "execution_count": 7,
   "id": "18744aca",
   "metadata": {
    "scrolled": true
   },
   "outputs": [
    {
     "data": {
      "text/html": [
       "<div>\n",
       "<style scoped>\n",
       "    .dataframe tbody tr th:only-of-type {\n",
       "        vertical-align: middle;\n",
       "    }\n",
       "\n",
       "    .dataframe tbody tr th {\n",
       "        vertical-align: top;\n",
       "    }\n",
       "\n",
       "    .dataframe thead th {\n",
       "        text-align: right;\n",
       "    }\n",
       "</style>\n",
       "<table border=\"1\" class=\"dataframe\">\n",
       "  <thead>\n",
       "    <tr style=\"text-align: right;\">\n",
       "      <th></th>\n",
       "      <th>AGE</th>\n",
       "      <th>GENDER_Female</th>\n",
       "      <th>GENDER_Male</th>\n",
       "      <th>PRODUCT HAZARD_ Allergenic</th>\n",
       "      <th>PRODUCT HAZARD_ Caustic/Corrosive</th>\n",
       "      <th>PRODUCT HAZARD_ Collision</th>\n",
       "      <th>PRODUCT HAZARD_ Crushing/Pinching</th>\n",
       "      <th>PRODUCT HAZARD_ Electric shock/Electrocution</th>\n",
       "      <th>PRODUCT HAZARD_ Entanglement/Entrapment</th>\n",
       "      <th>PRODUCT HAZARD_ Explosion (pressure related)</th>\n",
       "      <th>...</th>\n",
       "      <th>BODY PART_Leg</th>\n",
       "      <th>BODY PART_Mouth</th>\n",
       "      <th>BODY PART_Neck</th>\n",
       "      <th>BODY PART_Not Recorded</th>\n",
       "      <th>BODY PART_Pubic Region</th>\n",
       "      <th>BODY PART_Shoulder (including clavicle  collarbone)</th>\n",
       "      <th>BODY PART_Toe</th>\n",
       "      <th>BODY PART_Trunk</th>\n",
       "      <th>BODY PART_Unspecified</th>\n",
       "      <th>BODY PART_Wrist</th>\n",
       "    </tr>\n",
       "  </thead>\n",
       "  <tbody>\n",
       "    <tr>\n",
       "      <th>0</th>\n",
       "      <td>69</td>\n",
       "      <td>1</td>\n",
       "      <td>0</td>\n",
       "      <td>0</td>\n",
       "      <td>0</td>\n",
       "      <td>0</td>\n",
       "      <td>0</td>\n",
       "      <td>0</td>\n",
       "      <td>0</td>\n",
       "      <td>0</td>\n",
       "      <td>...</td>\n",
       "      <td>0</td>\n",
       "      <td>0</td>\n",
       "      <td>0</td>\n",
       "      <td>0</td>\n",
       "      <td>0</td>\n",
       "      <td>0</td>\n",
       "      <td>0</td>\n",
       "      <td>1</td>\n",
       "      <td>0</td>\n",
       "      <td>0</td>\n",
       "    </tr>\n",
       "    <tr>\n",
       "      <th>2</th>\n",
       "      <td>40</td>\n",
       "      <td>1</td>\n",
       "      <td>0</td>\n",
       "      <td>0</td>\n",
       "      <td>0</td>\n",
       "      <td>0</td>\n",
       "      <td>0</td>\n",
       "      <td>0</td>\n",
       "      <td>0</td>\n",
       "      <td>0</td>\n",
       "      <td>...</td>\n",
       "      <td>0</td>\n",
       "      <td>0</td>\n",
       "      <td>0</td>\n",
       "      <td>0</td>\n",
       "      <td>0</td>\n",
       "      <td>0</td>\n",
       "      <td>0</td>\n",
       "      <td>0</td>\n",
       "      <td>0</td>\n",
       "      <td>0</td>\n",
       "    </tr>\n",
       "    <tr>\n",
       "      <th>8</th>\n",
       "      <td>61</td>\n",
       "      <td>1</td>\n",
       "      <td>0</td>\n",
       "      <td>0</td>\n",
       "      <td>0</td>\n",
       "      <td>0</td>\n",
       "      <td>0</td>\n",
       "      <td>0</td>\n",
       "      <td>0</td>\n",
       "      <td>0</td>\n",
       "      <td>...</td>\n",
       "      <td>0</td>\n",
       "      <td>0</td>\n",
       "      <td>0</td>\n",
       "      <td>0</td>\n",
       "      <td>0</td>\n",
       "      <td>0</td>\n",
       "      <td>0</td>\n",
       "      <td>0</td>\n",
       "      <td>0</td>\n",
       "      <td>0</td>\n",
       "    </tr>\n",
       "    <tr>\n",
       "      <th>10</th>\n",
       "      <td>58</td>\n",
       "      <td>1</td>\n",
       "      <td>0</td>\n",
       "      <td>0</td>\n",
       "      <td>1</td>\n",
       "      <td>0</td>\n",
       "      <td>0</td>\n",
       "      <td>0</td>\n",
       "      <td>0</td>\n",
       "      <td>0</td>\n",
       "      <td>...</td>\n",
       "      <td>0</td>\n",
       "      <td>0</td>\n",
       "      <td>0</td>\n",
       "      <td>0</td>\n",
       "      <td>0</td>\n",
       "      <td>0</td>\n",
       "      <td>0</td>\n",
       "      <td>0</td>\n",
       "      <td>0</td>\n",
       "      <td>0</td>\n",
       "    </tr>\n",
       "    <tr>\n",
       "      <th>12</th>\n",
       "      <td>8</td>\n",
       "      <td>1</td>\n",
       "      <td>0</td>\n",
       "      <td>0</td>\n",
       "      <td>0</td>\n",
       "      <td>0</td>\n",
       "      <td>0</td>\n",
       "      <td>0</td>\n",
       "      <td>0</td>\n",
       "      <td>0</td>\n",
       "      <td>...</td>\n",
       "      <td>1</td>\n",
       "      <td>0</td>\n",
       "      <td>0</td>\n",
       "      <td>0</td>\n",
       "      <td>0</td>\n",
       "      <td>0</td>\n",
       "      <td>0</td>\n",
       "      <td>0</td>\n",
       "      <td>0</td>\n",
       "      <td>0</td>\n",
       "    </tr>\n",
       "  </tbody>\n",
       "</table>\n",
       "<p>5 rows × 83 columns</p>\n",
       "</div>"
      ],
      "text/plain": [
       "    AGE  GENDER_Female  GENDER_Male  PRODUCT HAZARD_ Allergenic  \\\n",
       "0    69              1            0                           0   \n",
       "2    40              1            0                           0   \n",
       "8    61              1            0                           0   \n",
       "10   58              1            0                           0   \n",
       "12    8              1            0                           0   \n",
       "\n",
       "    PRODUCT HAZARD_ Caustic/Corrosive  PRODUCT HAZARD_ Collision  \\\n",
       "0                                   0                          0   \n",
       "2                                   0                          0   \n",
       "8                                   0                          0   \n",
       "10                                  1                          0   \n",
       "12                                  0                          0   \n",
       "\n",
       "    PRODUCT HAZARD_ Crushing/Pinching  \\\n",
       "0                                   0   \n",
       "2                                   0   \n",
       "8                                   0   \n",
       "10                                  0   \n",
       "12                                  0   \n",
       "\n",
       "    PRODUCT HAZARD_ Electric shock/Electrocution  \\\n",
       "0                                              0   \n",
       "2                                              0   \n",
       "8                                              0   \n",
       "10                                             0   \n",
       "12                                             0   \n",
       "\n",
       "    PRODUCT HAZARD_ Entanglement/Entrapment  \\\n",
       "0                                         0   \n",
       "2                                         0   \n",
       "8                                         0   \n",
       "10                                        0   \n",
       "12                                        0   \n",
       "\n",
       "    PRODUCT HAZARD_ Explosion (pressure related)  ...  BODY PART_Leg  \\\n",
       "0                                              0  ...              0   \n",
       "2                                              0  ...              0   \n",
       "8                                              0  ...              0   \n",
       "10                                             0  ...              0   \n",
       "12                                             0  ...              1   \n",
       "\n",
       "    BODY PART_Mouth  BODY PART_Neck  BODY PART_Not Recorded  \\\n",
       "0                 0               0                       0   \n",
       "2                 0               0                       0   \n",
       "8                 0               0                       0   \n",
       "10                0               0                       0   \n",
       "12                0               0                       0   \n",
       "\n",
       "    BODY PART_Pubic Region  \\\n",
       "0                        0   \n",
       "2                        0   \n",
       "8                        0   \n",
       "10                       0   \n",
       "12                       0   \n",
       "\n",
       "    BODY PART_Shoulder (including clavicle  collarbone)  BODY PART_Toe  \\\n",
       "0                                                   0                0   \n",
       "2                                                   0                0   \n",
       "8                                                   0                0   \n",
       "10                                                  0                0   \n",
       "12                                                  0                0   \n",
       "\n",
       "    BODY PART_Trunk  BODY PART_Unspecified  BODY PART_Wrist  \n",
       "0                 1                      0                0  \n",
       "2                 0                      0                0  \n",
       "8                 0                      0                0  \n",
       "10                0                      0                0  \n",
       "12                0                      0                0  \n",
       "\n",
       "[5 rows x 83 columns]"
      ]
     },
     "execution_count": 7,
     "metadata": {},
     "output_type": "execute_result"
    }
   ],
   "source": [
    "#Create dummy variables for independent variables\n",
    "Feature = df[['AGE']]\n",
    "columns = df[['GENDER', 'PRODUCT HAZARD', 'INJURY','BODY PART']]\n",
    "Feature = pd.concat([Feature,pd.get_dummies(columns)], axis=1)\n",
    "Feature.head()"
   ]
  },
  {
   "cell_type": "code",
   "execution_count": 8,
   "id": "97eb6077",
   "metadata": {},
   "outputs": [],
   "source": [
    "X = Feature\n",
    "X = preprocessing.StandardScaler().fit(X).transform(X)"
   ]
  },
  {
   "cell_type": "code",
   "execution_count": 9,
   "id": "00e60083",
   "metadata": {},
   "outputs": [],
   "source": [
    "y = df['SEVERITY'].values"
   ]
  },
  {
   "cell_type": "code",
   "execution_count": 10,
   "id": "3f821dba",
   "metadata": {},
   "outputs": [
    {
     "name": "stdout",
     "output_type": "stream",
     "text": [
      "Train set: (12058, 83) (12058,)\n",
      "Test set: (3015, 83) (3015,)\n"
     ]
    }
   ],
   "source": [
    "#Split dataset into 80% test and 20% train sets\n",
    "X_train, X_test, y_train, y_test = train_test_split( X, y, test_size=0.2, random_state=4)\n",
    "print ('Train set:', X_train.shape,  y_train.shape)\n",
    "print ('Test set:', X_test.shape,  y_test.shape)"
   ]
  },
  {
   "cell_type": "markdown",
   "id": "485d7dbb",
   "metadata": {},
   "source": [
    "# ML Algorithms"
   ]
  },
  {
   "cell_type": "markdown",
   "id": "89cbd100",
   "metadata": {},
   "source": [
    "## K Nearest Neighbor Classification"
   ]
  },
  {
   "cell_type": "code",
   "execution_count": 11,
   "id": "a2321cb3",
   "metadata": {},
   "outputs": [
    {
     "data": {
      "text/plain": [
       "array([0.43548922, 0.42421227, 0.46898839, 0.46832504, 0.48590381,\n",
       "       0.48822554, 0.49220564, 0.50348259, 0.50149254, 0.50315091,\n",
       "       0.50149254, 0.50149254, 0.50713101, 0.50315091, 0.50248756,\n",
       "       0.50547264, 0.50580431, 0.50547264, 0.50414594, 0.50414594,\n",
       "       0.50746269, 0.50580431, 0.50049751, 0.50381426, 0.50547264,\n",
       "       0.50414594, 0.50116086, 0.50248756, 0.50149254])"
      ]
     },
     "execution_count": 11,
     "metadata": {},
     "output_type": "execute_result"
    }
   ],
   "source": [
    "Ks = 30\n",
    "mean_acc = np.zeros((Ks-1))\n",
    "std_acc = np.zeros((Ks-1))\n",
    "\n",
    "for n in range(1,Ks):\n",
    "    \n",
    "    neigh = KNeighborsClassifier(n_neighbors = n).fit(X_train,y_train)\n",
    "    yhat=neigh.predict(X_test)\n",
    "    mean_acc[n-1] = metrics.accuracy_score(y_test, yhat)\n",
    "\n",
    "    std_acc[n-1]=np.std(yhat==y_test)/np.sqrt(yhat.shape[0])\n",
    "\n",
    "mean_acc"
   ]
  },
  {
   "cell_type": "code",
   "execution_count": 12,
   "id": "a1f3d812",
   "metadata": {},
   "outputs": [
    {
     "data": {
      "image/png": "[encoded data removed]",
      "text/plain": [
       "<Figure size 432x288 with 1 Axes>"
      ]
     },
     "metadata": {
      "needs_background": "light"
     },
     "output_type": "display_data"
    }
   ],
   "source": [
    "plt.plot(range(1,Ks),mean_acc,'g')\n",
    "plt.fill_between(range(1,Ks),mean_acc - 1 * std_acc,mean_acc + 1 * std_acc, alpha=0.10)\n",
    "plt.fill_between(range(1,Ks),mean_acc - 3 * std_acc,mean_acc + 3 * std_acc, alpha=0.10,color=\"green\")\n",
    "plt.legend(('Accuracy ', '+/- 1xstd','+/- 3xstd'))\n",
    "plt.ylabel('Accuracy ')\n",
    "plt.xlabel('Number of Neighbors (K)')\n",
    "plt.tight_layout()\n",
    "plt.show()"
   ]
  },
  {
   "cell_type": "code",
   "execution_count": 13,
   "id": "b425e1c7",
   "metadata": {},
   "outputs": [
    {
     "name": "stdout",
     "output_type": "stream",
     "text": [
      "The best accuracy was with 0.5074626865671642 with k= 21\n"
     ]
    }
   ],
   "source": [
    "print( \"The best accuracy was with\", mean_acc.max(), \"with k=\", mean_acc.argmax()+1) "
   ]
  },
  {
   "cell_type": "markdown",
   "id": "aa72a808",
   "metadata": {},
   "source": [
    "## Decision Tree Classification"
   ]
  },
  {
   "cell_type": "code",
   "execution_count": 14,
   "id": "ea34518f",
   "metadata": {},
   "outputs": [
    {
     "name": "stdout",
     "output_type": "stream",
     "text": [
      "['Emergency Department Treatment Received' 'Hospital Admission'\n",
      " 'Seen by Medical Professional'\n",
      " 'First Aid Received by Non-Medical Professional' 'Hospital Admission']\n",
      "['Emergency Department Treatment Received' 'Hospital Admission'\n",
      " 'No First Aid or Medical Attention Received'\n",
      " 'Emergency Department Treatment Received'\n",
      " 'Emergency Department Treatment Received']\n"
     ]
    }
   ],
   "source": [
    "#Decision Tree Classification\n",
    "loanTree = DecisionTreeClassifier()\n",
    "loanTree.fit(X_train,y_train)\n",
    "predTree = loanTree.predict(X_test)\n",
    "print (predTree [0:5])\n",
    "print (y_test [0:5])"
   ]
  },
  {
   "cell_type": "code",
   "execution_count": 15,
   "id": "d37b14e4",
   "metadata": {},
   "outputs": [
    {
     "name": "stdout",
     "output_type": "stream",
     "text": [
      "DecisionTrees's Accuracy:  0.45240464344941955\n"
     ]
    }
   ],
   "source": [
    "print(\"DecisionTrees's Accuracy: \", metrics.accuracy_score(y_test, predTree))"
   ]
  },
  {
   "cell_type": "code",
   "execution_count": 16,
   "id": "99fa13e5",
   "metadata": {},
   "outputs": [
    {
     "name": "stdout",
     "output_type": "stream",
     "text": [
      "Accuracy: 0.5190713101160862\n"
     ]
    }
   ],
   "source": [
    "classifier = LogisticRegression(solver='lbfgs', max_iter=10000)\n",
    "classifier.fit(X_train, y_train)\n",
    "score = classifier.score(X_test, y_test)\n",
    "\n",
    "print(\"Accuracy:\", score)"
   ]
  },
  {
   "cell_type": "markdown",
   "id": "fc83ce32",
   "metadata": {},
   "source": [
    "# Second Attempt"
   ]
  },
  {
   "cell_type": "markdown",
   "id": "cfbdb286",
   "metadata": {},
   "source": [
    "In this attempt we group severity into two groups:\n",
    "- Medical emergencies that require immediate attention and professional care\n",
    "    - Hospital admission\n",
    "    - Emergency department treatment received\n",
    "- Non emergency injuries that could still require treatment\n",
    "    - First aid received by non-medical professional\n",
    "    - No first aid or medical attention received\n",
    "    - Seen by medical professional"
   ]
  },
  {
   "cell_type": "code",
   "execution_count": 17,
   "id": "e3533ca4",
   "metadata": {},
   "outputs": [],
   "source": [
    "#Group severity into two groups: medical treatment needed vs not needed\n",
    "df.replace({'Hospital Admission': 'Severe', \n",
    "            'First Aid Received by Non-Medical Professional': 'Not severe',\n",
    "            'No First Aid or Medical Attention Received' : 'Not severe',\n",
    "            'Emergency Department Treatment Received' : 'Severe',\n",
    "            'Seen by Medical Professional' : 'Not severe'}, inplace=True)"
   ]
  },
  {
   "cell_type": "code",
   "execution_count": 18,
   "id": "68752264",
   "metadata": {
    "scrolled": true
   },
   "outputs": [
    {
     "data": {
      "text/html": [
       "<div>\n",
       "<style scoped>\n",
       "    .dataframe tbody tr th:only-of-type {\n",
       "        vertical-align: middle;\n",
       "    }\n",
       "\n",
       "    .dataframe tbody tr th {\n",
       "        vertical-align: top;\n",
       "    }\n",
       "\n",
       "    .dataframe thead th {\n",
       "        text-align: right;\n",
       "    }\n",
       "</style>\n",
       "<table border=\"1\" class=\"dataframe\">\n",
       "  <thead>\n",
       "    <tr style=\"text-align: right;\">\n",
       "      <th></th>\n",
       "      <th>STATE</th>\n",
       "      <th>INCIDENT YEAR</th>\n",
       "      <th>INCIDENT MONTH</th>\n",
       "      <th>PRODUCT</th>\n",
       "      <th>PRODUCT HAZARD TYPE</th>\n",
       "      <th>PRODUCT HAZARD</th>\n",
       "      <th>GENDER</th>\n",
       "      <th>AGE</th>\n",
       "      <th>INJURY</th>\n",
       "      <th>BODY PART</th>\n",
       "      <th>SEVERITY</th>\n",
       "      <th>INCIDENT DESCRIPTION</th>\n",
       "    </tr>\n",
       "  </thead>\n",
       "  <tbody>\n",
       "    <tr>\n",
       "      <th>0</th>\n",
       "      <td>SC</td>\n",
       "      <td>2001.0</td>\n",
       "      <td>8.0</td>\n",
       "      <td>Pressure Cookers or Canners (412)</td>\n",
       "      <td>Thermal</td>\n",
       "      <td>Hot Liquid or Steam</td>\n",
       "      <td>Female</td>\n",
       "      <td>69</td>\n",
       "      <td>Burn-Scald</td>\n",
       "      <td>Trunk</td>\n",
       "      <td>Severe</td>\n",
       "      <td>69 YOF WAS COOKING IN PRESSURE COOKER. POT STA...</td>\n",
       "    </tr>\n",
       "    <tr>\n",
       "      <th>2</th>\n",
       "      <td>MA</td>\n",
       "      <td>2001.0</td>\n",
       "      <td>11.0</td>\n",
       "      <td>Gas Ranges or Ovens (279)</td>\n",
       "      <td>Thermal</td>\n",
       "      <td>Hot surface</td>\n",
       "      <td>Female</td>\n",
       "      <td>40</td>\n",
       "      <td>Burn-Thermal</td>\n",
       "      <td>Hand</td>\n",
       "      <td>Not severe</td>\n",
       "      <td>THE CONSUMER REPORTED SEVERAL ISSUES WITH HER ...</td>\n",
       "    </tr>\n",
       "    <tr>\n",
       "      <th>8</th>\n",
       "      <td>ME</td>\n",
       "      <td>2002.0</td>\n",
       "      <td>1.0</td>\n",
       "      <td>Electric Ranges or Ovens (Excl Counter-top Ove...</td>\n",
       "      <td>Mechanical</td>\n",
       "      <td>Sharp or Pointed Objects</td>\n",
       "      <td>Female</td>\n",
       "      <td>61</td>\n",
       "      <td>Cut</td>\n",
       "      <td>Finger</td>\n",
       "      <td>Not severe</td>\n",
       "      <td>THE CONSUMER STATED THAT SHE NOTICED THAT THE ...</td>\n",
       "    </tr>\n",
       "    <tr>\n",
       "      <th>10</th>\n",
       "      <td>MD</td>\n",
       "      <td>2002.0</td>\n",
       "      <td>8.0</td>\n",
       "      <td>Gas Ranges or Ovens (279)</td>\n",
       "      <td>Chemical</td>\n",
       "      <td>Caustic/Corrosive</td>\n",
       "      <td>Female</td>\n",
       "      <td>58</td>\n",
       "      <td>Foreign Object Stuck in or on the body</td>\n",
       "      <td>Hand</td>\n",
       "      <td>Not severe</td>\n",
       "      <td>GE GLASS TOP GAS RANGE IS NOT RECALLED  HOWEVE...</td>\n",
       "    </tr>\n",
       "    <tr>\n",
       "      <th>12</th>\n",
       "      <td>NY</td>\n",
       "      <td>2002.0</td>\n",
       "      <td>1.0</td>\n",
       "      <td>Soccer (Activity  Apparel or Equipment) (1267)</td>\n",
       "      <td>Mechanical</td>\n",
       "      <td>Projectile/Falling Objects</td>\n",
       "      <td>Female</td>\n",
       "      <td>8</td>\n",
       "      <td>Break  Fracture</td>\n",
       "      <td>Leg</td>\n",
       "      <td>Severe</td>\n",
       "      <td>8 YOF SUFFERED CRUSHED FEMUR WHEN PORTABLE SOC...</td>\n",
       "    </tr>\n",
       "  </tbody>\n",
       "</table>\n",
       "</div>"
      ],
      "text/plain": [
       "   STATE  INCIDENT YEAR  INCIDENT MONTH  \\\n",
       "0     SC         2001.0             8.0   \n",
       "2     MA         2001.0            11.0   \n",
       "8     ME         2002.0             1.0   \n",
       "10    MD         2002.0             8.0   \n",
       "12    NY         2002.0             1.0   \n",
       "\n",
       "                                              PRODUCT PRODUCT HAZARD TYPE  \\\n",
       "0                   Pressure Cookers or Canners (412)            Thermal    \n",
       "2                           Gas Ranges or Ovens (279)            Thermal    \n",
       "8   Electric Ranges or Ovens (Excl Counter-top Ove...         Mechanical    \n",
       "10                          Gas Ranges or Ovens (279)           Chemical    \n",
       "12     Soccer (Activity  Apparel or Equipment) (1267)         Mechanical    \n",
       "\n",
       "                 PRODUCT HAZARD  GENDER  AGE  \\\n",
       "0           Hot Liquid or Steam  Female   69   \n",
       "2                   Hot surface  Female   40   \n",
       "8      Sharp or Pointed Objects  Female   61   \n",
       "10            Caustic/Corrosive  Female   58   \n",
       "12   Projectile/Falling Objects  Female    8   \n",
       "\n",
       "                                    INJURY BODY PART    SEVERITY  \\\n",
       "0                               Burn-Scald     Trunk      Severe   \n",
       "2                             Burn-Thermal      Hand  Not severe   \n",
       "8                                      Cut    Finger  Not severe   \n",
       "10  Foreign Object Stuck in or on the body      Hand  Not severe   \n",
       "12                         Break  Fracture       Leg      Severe   \n",
       "\n",
       "                                 INCIDENT DESCRIPTION  \n",
       "0   69 YOF WAS COOKING IN PRESSURE COOKER. POT STA...  \n",
       "2   THE CONSUMER REPORTED SEVERAL ISSUES WITH HER ...  \n",
       "8   THE CONSUMER STATED THAT SHE NOTICED THAT THE ...  \n",
       "10  GE GLASS TOP GAS RANGE IS NOT RECALLED  HOWEVE...  \n",
       "12  8 YOF SUFFERED CRUSHED FEMUR WHEN PORTABLE SOC...  "
      ]
     },
     "execution_count": 18,
     "metadata": {},
     "output_type": "execute_result"
    }
   ],
   "source": [
    "df.head()"
   ]
  },
  {
   "cell_type": "code",
   "execution_count": 19,
   "id": "dcc2e023",
   "metadata": {},
   "outputs": [
    {
     "data": {
      "text/html": [
       "<div>\n",
       "<style scoped>\n",
       "    .dataframe tbody tr th:only-of-type {\n",
       "        vertical-align: middle;\n",
       "    }\n",
       "\n",
       "    .dataframe tbody tr th {\n",
       "        vertical-align: top;\n",
       "    }\n",
       "\n",
       "    .dataframe thead th {\n",
       "        text-align: right;\n",
       "    }\n",
       "</style>\n",
       "<table border=\"1\" class=\"dataframe\">\n",
       "  <thead>\n",
       "    <tr style=\"text-align: right;\">\n",
       "      <th></th>\n",
       "      <th>AGE</th>\n",
       "      <th>GENDER_Female</th>\n",
       "      <th>GENDER_Male</th>\n",
       "      <th>PRODUCT HAZARD_ Allergenic</th>\n",
       "      <th>PRODUCT HAZARD_ Caustic/Corrosive</th>\n",
       "      <th>PRODUCT HAZARD_ Collision</th>\n",
       "      <th>PRODUCT HAZARD_ Crushing/Pinching</th>\n",
       "      <th>PRODUCT HAZARD_ Electric shock/Electrocution</th>\n",
       "      <th>PRODUCT HAZARD_ Entanglement/Entrapment</th>\n",
       "      <th>PRODUCT HAZARD_ Explosion (pressure related)</th>\n",
       "      <th>...</th>\n",
       "      <th>BODY PART_Leg</th>\n",
       "      <th>BODY PART_Mouth</th>\n",
       "      <th>BODY PART_Neck</th>\n",
       "      <th>BODY PART_Not Recorded</th>\n",
       "      <th>BODY PART_Pubic Region</th>\n",
       "      <th>BODY PART_Shoulder (including clavicle  collarbone)</th>\n",
       "      <th>BODY PART_Toe</th>\n",
       "      <th>BODY PART_Trunk</th>\n",
       "      <th>BODY PART_Unspecified</th>\n",
       "      <th>BODY PART_Wrist</th>\n",
       "    </tr>\n",
       "  </thead>\n",
       "  <tbody>\n",
       "    <tr>\n",
       "      <th>0</th>\n",
       "      <td>69</td>\n",
       "      <td>1</td>\n",
       "      <td>0</td>\n",
       "      <td>0</td>\n",
       "      <td>0</td>\n",
       "      <td>0</td>\n",
       "      <td>0</td>\n",
       "      <td>0</td>\n",
       "      <td>0</td>\n",
       "      <td>0</td>\n",
       "      <td>...</td>\n",
       "      <td>0</td>\n",
       "      <td>0</td>\n",
       "      <td>0</td>\n",
       "      <td>0</td>\n",
       "      <td>0</td>\n",
       "      <td>0</td>\n",
       "      <td>0</td>\n",
       "      <td>1</td>\n",
       "      <td>0</td>\n",
       "      <td>0</td>\n",
       "    </tr>\n",
       "    <tr>\n",
       "      <th>2</th>\n",
       "      <td>40</td>\n",
       "      <td>1</td>\n",
       "      <td>0</td>\n",
       "      <td>0</td>\n",
       "      <td>0</td>\n",
       "      <td>0</td>\n",
       "      <td>0</td>\n",
       "      <td>0</td>\n",
       "      <td>0</td>\n",
       "      <td>0</td>\n",
       "      <td>...</td>\n",
       "      <td>0</td>\n",
       "      <td>0</td>\n",
       "      <td>0</td>\n",
       "      <td>0</td>\n",
       "      <td>0</td>\n",
       "      <td>0</td>\n",
       "      <td>0</td>\n",
       "      <td>0</td>\n",
       "      <td>0</td>\n",
       "      <td>0</td>\n",
       "    </tr>\n",
       "    <tr>\n",
       "      <th>8</th>\n",
       "      <td>61</td>\n",
       "      <td>1</td>\n",
       "      <td>0</td>\n",
       "      <td>0</td>\n",
       "      <td>0</td>\n",
       "      <td>0</td>\n",
       "      <td>0</td>\n",
       "      <td>0</td>\n",
       "      <td>0</td>\n",
       "      <td>0</td>\n",
       "      <td>...</td>\n",
       "      <td>0</td>\n",
       "      <td>0</td>\n",
       "      <td>0</td>\n",
       "      <td>0</td>\n",
       "      <td>0</td>\n",
       "      <td>0</td>\n",
       "      <td>0</td>\n",
       "      <td>0</td>\n",
       "      <td>0</td>\n",
       "      <td>0</td>\n",
       "    </tr>\n",
       "    <tr>\n",
       "      <th>10</th>\n",
       "      <td>58</td>\n",
       "      <td>1</td>\n",
       "      <td>0</td>\n",
       "      <td>0</td>\n",
       "      <td>1</td>\n",
       "      <td>0</td>\n",
       "      <td>0</td>\n",
       "      <td>0</td>\n",
       "      <td>0</td>\n",
       "      <td>0</td>\n",
       "      <td>...</td>\n",
       "      <td>0</td>\n",
       "      <td>0</td>\n",
       "      <td>0</td>\n",
       "      <td>0</td>\n",
       "      <td>0</td>\n",
       "      <td>0</td>\n",
       "      <td>0</td>\n",
       "      <td>0</td>\n",
       "      <td>0</td>\n",
       "      <td>0</td>\n",
       "    </tr>\n",
       "    <tr>\n",
       "      <th>12</th>\n",
       "      <td>8</td>\n",
       "      <td>1</td>\n",
       "      <td>0</td>\n",
       "      <td>0</td>\n",
       "      <td>0</td>\n",
       "      <td>0</td>\n",
       "      <td>0</td>\n",
       "      <td>0</td>\n",
       "      <td>0</td>\n",
       "      <td>0</td>\n",
       "      <td>...</td>\n",
       "      <td>1</td>\n",
       "      <td>0</td>\n",
       "      <td>0</td>\n",
       "      <td>0</td>\n",
       "      <td>0</td>\n",
       "      <td>0</td>\n",
       "      <td>0</td>\n",
       "      <td>0</td>\n",
       "      <td>0</td>\n",
       "      <td>0</td>\n",
       "    </tr>\n",
       "  </tbody>\n",
       "</table>\n",
       "<p>5 rows × 83 columns</p>\n",
       "</div>"
      ],
      "text/plain": [
       "    AGE  GENDER_Female  GENDER_Male  PRODUCT HAZARD_ Allergenic  \\\n",
       "0    69              1            0                           0   \n",
       "2    40              1            0                           0   \n",
       "8    61              1            0                           0   \n",
       "10   58              1            0                           0   \n",
       "12    8              1            0                           0   \n",
       "\n",
       "    PRODUCT HAZARD_ Caustic/Corrosive  PRODUCT HAZARD_ Collision  \\\n",
       "0                                   0                          0   \n",
       "2                                   0                          0   \n",
       "8                                   0                          0   \n",
       "10                                  1                          0   \n",
       "12                                  0                          0   \n",
       "\n",
       "    PRODUCT HAZARD_ Crushing/Pinching  \\\n",
       "0                                   0   \n",
       "2                                   0   \n",
       "8                                   0   \n",
       "10                                  0   \n",
       "12                                  0   \n",
       "\n",
       "    PRODUCT HAZARD_ Electric shock/Electrocution  \\\n",
       "0                                              0   \n",
       "2                                              0   \n",
       "8                                              0   \n",
       "10                                             0   \n",
       "12                                             0   \n",
       "\n",
       "    PRODUCT HAZARD_ Entanglement/Entrapment  \\\n",
       "0                                         0   \n",
       "2                                         0   \n",
       "8                                         0   \n",
       "10                                        0   \n",
       "12                                        0   \n",
       "\n",
       "    PRODUCT HAZARD_ Explosion (pressure related)  ...  BODY PART_Leg  \\\n",
       "0                                              0  ...              0   \n",
       "2                                              0  ...              0   \n",
       "8                                              0  ...              0   \n",
       "10                                             0  ...              0   \n",
       "12                                             0  ...              1   \n",
       "\n",
       "    BODY PART_Mouth  BODY PART_Neck  BODY PART_Not Recorded  \\\n",
       "0                 0               0                       0   \n",
       "2                 0               0                       0   \n",
       "8                 0               0                       0   \n",
       "10                0               0                       0   \n",
       "12                0               0                       0   \n",
       "\n",
       "    BODY PART_Pubic Region  \\\n",
       "0                        0   \n",
       "2                        0   \n",
       "8                        0   \n",
       "10                       0   \n",
       "12                       0   \n",
       "\n",
       "    BODY PART_Shoulder (including clavicle  collarbone)  BODY PART_Toe  \\\n",
       "0                                                   0                0   \n",
       "2                                                   0                0   \n",
       "8                                                   0                0   \n",
       "10                                                  0                0   \n",
       "12                                                  0                0   \n",
       "\n",
       "    BODY PART_Trunk  BODY PART_Unspecified  BODY PART_Wrist  \n",
       "0                 1                      0                0  \n",
       "2                 0                      0                0  \n",
       "8                 0                      0                0  \n",
       "10                0                      0                0  \n",
       "12                0                      0                0  \n",
       "\n",
       "[5 rows x 83 columns]"
      ]
     },
     "execution_count": 19,
     "metadata": {},
     "output_type": "execute_result"
    }
   ],
   "source": [
    "#Create dummy variables for independent variables\n",
    "Feature = df[['AGE']]\n",
    "columns = df[['GENDER', 'PRODUCT HAZARD', 'INJURY','BODY PART']]\n",
    "Feature = pd.concat([Feature,pd.get_dummies(columns)], axis=1)\n",
    "Feature.head()"
   ]
  },
  {
   "cell_type": "code",
   "execution_count": 20,
   "id": "eb7a8d22",
   "metadata": {},
   "outputs": [],
   "source": [
    "X = Feature\n",
    "X = preprocessing.StandardScaler().fit(X).transform(X)"
   ]
  },
  {
   "cell_type": "code",
   "execution_count": 21,
   "id": "52d4b156",
   "metadata": {},
   "outputs": [],
   "source": [
    "y = df['SEVERITY'].values"
   ]
  },
  {
   "cell_type": "code",
   "execution_count": 22,
   "id": "fe529a61",
   "metadata": {},
   "outputs": [
    {
     "name": "stdout",
     "output_type": "stream",
     "text": [
      "Train set: (12058, 83) (12058,)\n",
      "Test set: (3015, 83) (3015,)\n"
     ]
    }
   ],
   "source": [
    "#Split dataset into 80% test and 20% train sets\n",
    "X_train, X_test, y_train, y_test = train_test_split( X, y, test_size=0.2, random_state=4)\n",
    "print ('Train set:', X_train.shape,  y_train.shape)\n",
    "print ('Test set:', X_test.shape,  y_test.shape)"
   ]
  },
  {
   "cell_type": "markdown",
   "id": "a214c83f",
   "metadata": {},
   "source": [
    "# ML Algorithms"
   ]
  },
  {
   "cell_type": "markdown",
   "id": "18e5e8b3",
   "metadata": {},
   "source": [
    "## K Nearest Neighbor Classification"
   ]
  },
  {
   "cell_type": "code",
   "execution_count": 23,
   "id": "a8267e2b",
   "metadata": {},
   "outputs": [
    {
     "data": {
      "text/plain": [
       "array([0.75422886, 0.75655058, 0.78606965, 0.7907131 , 0.79502488,\n",
       "       0.79800995, 0.8       , 0.79701493, 0.80199005, 0.79834163,\n",
       "       0.80099502, 0.79568823, 0.79966833, 0.79701493, 0.80066335,\n",
       "       0.80165837, 0.80033167, 0.80298507, 0.80165837, 0.79535655,\n",
       "       0.80232172, 0.79933665, 0.8026534 , 0.80331675, 0.80331675,\n",
       "       0.7986733 , 0.80033167, 0.8       , 0.79767828])"
      ]
     },
     "execution_count": 23,
     "metadata": {},
     "output_type": "execute_result"
    }
   ],
   "source": [
    "Ks = 30\n",
    "mean_acc = np.zeros((Ks-1))\n",
    "std_acc = np.zeros((Ks-1))\n",
    "\n",
    "for n in range(1,Ks):\n",
    "    \n",
    "    neigh = KNeighborsClassifier(n_neighbors = n).fit(X_train,y_train)\n",
    "    yhat=neigh.predict(X_test)\n",
    "    mean_acc[n-1] = metrics.accuracy_score(y_test, yhat)\n",
    "\n",
    "    std_acc[n-1]=np.std(yhat==y_test)/np.sqrt(yhat.shape[0])\n",
    "\n",
    "mean_acc"
   ]
  },
  {
   "cell_type": "code",
   "execution_count": 24,
   "id": "e1cb2ca0",
   "metadata": {},
   "outputs": [
    {
     "data": {
      "image/png": "[encoded data removed]",
      "text/plain": [
       "<Figure size 432x288 with 1 Axes>"
      ]
     },
     "metadata": {
      "needs_background": "light"
     },
     "output_type": "display_data"
    }
   ],
   "source": [
    "plt.plot(range(1,Ks),mean_acc,'g')\n",
    "plt.fill_between(range(1,Ks),mean_acc - 1 * std_acc,mean_acc + 1 * std_acc, alpha=0.10)\n",
    "plt.fill_between(range(1,Ks),mean_acc - 3 * std_acc,mean_acc + 3 * std_acc, alpha=0.10,color=\"green\")\n",
    "plt.legend(('Accuracy ', '+/- 1xstd','+/- 3xstd'))\n",
    "plt.ylabel('Accuracy ')\n",
    "plt.xlabel('Number of Neighbors (K)')\n",
    "plt.tight_layout()\n",
    "plt.show()"
   ]
  },
  {
   "cell_type": "code",
   "execution_count": 25,
   "id": "eaddef25",
   "metadata": {},
   "outputs": [
    {
     "name": "stdout",
     "output_type": "stream",
     "text": [
      "The best accuracy was with 0.8033167495854063 with k= 24\n"
     ]
    }
   ],
   "source": [
    "print( \"The best accuracy was with\", mean_acc.max(), \"with k=\", mean_acc.argmax()+1) "
   ]
  },
  {
   "cell_type": "markdown",
   "id": "e4f5911e",
   "metadata": {},
   "source": [
    "## Decision Tree Classification"
   ]
  },
  {
   "cell_type": "code",
   "execution_count": 26,
   "id": "97639e43",
   "metadata": {},
   "outputs": [
    {
     "name": "stdout",
     "output_type": "stream",
     "text": [
      "['Severe' 'Not severe' 'Not severe' 'Not severe' 'Severe']\n",
      "['Severe' 'Severe' 'Not severe' 'Severe' 'Severe']\n"
     ]
    }
   ],
   "source": [
    "#Decision Tree Classification\n",
    "loanTree = DecisionTreeClassifier()\n",
    "loanTree.fit(X_train,y_train)\n",
    "predTree = loanTree.predict(X_test)\n",
    "print (predTree [0:5])\n",
    "print (y_test [0:5])"
   ]
  },
  {
   "cell_type": "code",
   "execution_count": 27,
   "id": "ca383441",
   "metadata": {},
   "outputs": [
    {
     "name": "stdout",
     "output_type": "stream",
     "text": [
      "DecisionTrees's Accuracy:  0.7655058043117745\n"
     ]
    }
   ],
   "source": [
    "print(\"DecisionTrees's Accuracy: \", metrics.accuracy_score(y_test, predTree))"
   ]
  },
  {
   "cell_type": "markdown",
   "id": "981edc6f",
   "metadata": {},
   "source": [
    "## Support Vector Machine"
   ]
  },
  {
   "cell_type": "code",
   "execution_count": 28,
   "id": "71d11f1b",
   "metadata": {},
   "outputs": [
    {
     "name": "stdout",
     "output_type": "stream",
     "text": [
      "Avg F1-score: 0.8124\n",
      "Jaccard score: 0.6869\n"
     ]
    }
   ],
   "source": [
    "clf = svm.SVC(kernel='rbf')\n",
    "clf.fit(X_train, y_train) \n",
    "yhat = clf.predict(X_test)\n",
    "print(\"Avg F1-score: %.4f\" % f1_score(y_test, yhat, average='weighted'))\n",
    "print(\"Jaccard score: %.4f\" % jaccard_score(y_test, yhat, pos_label='Severe'))"
   ]
  },
  {
   "cell_type": "code",
   "execution_count": 29,
   "id": "1a9cce39",
   "metadata": {},
   "outputs": [
    {
     "name": "stdout",
     "output_type": "stream",
     "text": [
      "Avg F1-score: 0.7849\n",
      "Jaccard score: 0.6377\n"
     ]
    }
   ],
   "source": [
    "clf2 = svm.SVC(kernel='linear')\n",
    "clf2.fit(X_train, y_train) \n",
    "yhat = clf2.predict(X_test)\n",
    "print(\"Avg F1-score: %.4f\" % f1_score(y_test, yhat, average='weighted'))\n",
    "print(\"Jaccard score: %.4f\" % jaccard_score(y_test, yhat, pos_label='Severe'))"
   ]
  },
  {
   "cell_type": "code",
   "execution_count": 30,
   "id": "863f7e00",
   "metadata": {},
   "outputs": [
    {
     "name": "stdout",
     "output_type": "stream",
     "text": [
      "Avg F1-score: 0.8117\n",
      "Jaccard score: 0.6881\n"
     ]
    }
   ],
   "source": [
    "clf3 = svm.SVC(kernel='poly')\n",
    "clf3.fit(X_train, y_train) \n",
    "yhat = clf3.predict(X_test)\n",
    "print(\"Avg F1-score: %.4f\" % f1_score(y_test, yhat, average='weighted'))\n",
    "print(\"Jaccard score: %.4f\" % jaccard_score(y_test, yhat, pos_label='Severe'))"
   ]
  },
  {
   "cell_type": "code",
   "execution_count": 31,
   "id": "065ba5f3",
   "metadata": {},
   "outputs": [
    {
     "name": "stdout",
     "output_type": "stream",
     "text": [
      "Avg F1-score: 0.7448\n",
      "Jaccard score: 0.5996\n"
     ]
    }
   ],
   "source": [
    "clf4 = svm.SVC(kernel='sigmoid')\n",
    "clf4.fit(X_train, y_train) \n",
    "yhat = clf4.predict(X_test)\n",
    "print(\"Avg F1-score: %.4f\" % f1_score(y_test, yhat, average='weighted'))\n",
    "print(\"Jaccard score: %.4f\" % jaccard_score(y_test, yhat, pos_label='Severe'))"
   ]
  },
  {
   "cell_type": "markdown",
   "id": "bfb65729",
   "metadata": {},
   "source": [
    "## Logistic Regression"
   ]
  },
  {
   "cell_type": "code",
   "execution_count": 32,
   "id": "70dd6ec8",
   "metadata": {},
   "outputs": [],
   "source": [
    "LR = LogisticRegression(C=0.01, solver='liblinear').fit(X_train,y_train)"
   ]
  },
  {
   "cell_type": "code",
   "execution_count": 33,
   "id": "dd485d73",
   "metadata": {},
   "outputs": [],
   "source": [
    "yhat = LR.predict(X_test)"
   ]
  },
  {
   "cell_type": "code",
   "execution_count": 34,
   "id": "d93bb277",
   "metadata": {},
   "outputs": [
    {
     "name": "stdout",
     "output_type": "stream",
     "text": [
      "              precision    recall  f1-score   support\n",
      "\n",
      "  Not severe       0.78      0.84      0.81      1434\n",
      "      Severe       0.85      0.78      0.81      1581\n",
      "\n",
      "    accuracy                           0.81      3015\n",
      "   macro avg       0.81      0.81      0.81      3015\n",
      "weighted avg       0.81      0.81      0.81      3015\n",
      "\n",
      "0.6842105263157895\n"
     ]
    }
   ],
   "source": [
    "print (classification_report(y_test, yhat))\n",
    "yhat_prob = LR.predict_proba(X_test)\n",
    "print (jaccard_score(y_test, yhat,pos_label='Severe'))"
   ]
  },
  {
   "cell_type": "markdown",
   "id": "691592d2",
   "metadata": {},
   "source": [
    "# Results"
   ]
  },
  {
   "cell_type": "markdown",
   "id": "4da1218f",
   "metadata": {},
   "source": [
    "## Trial 1"
   ]
  },
  {
   "cell_type": "markdown",
   "id": "08fc3f6e",
   "metadata": {},
   "source": [
    "KNN\n",
    "- The best accuracy was with 0.5074626865671642 with k= 21\n",
    "\n",
    "Decision Tree\n",
    "- Accuracy:  0.4540630182421227"
   ]
  },
  {
   "cell_type": "markdown",
   "id": "b4be6f5c",
   "metadata": {},
   "source": [
    "## Trial 2"
   ]
  },
  {
   "cell_type": "markdown",
   "id": "806d6993",
   "metadata": {},
   "source": [
    "KNN\n",
    "- The best accuracy was with 0.8033167495854063 with k= 24\n",
    "\n",
    "Decision Tree\n",
    "- Accuracy:  0.766832504145937\n",
    "\n",
    "Support Vector Machine\n",
    "- Radial basis function kernel (Gaussian):\n",
    "    - Avg F1-score: 0.8124\n",
    "- Linear kernel:\n",
    "    - Avg F1-score: 0.7849\n",
    "- Polynomial kernel:\n",
    "    - Avg F1-score: 0.8117\n",
    "- Sigmoid kernel:\n",
    "    - Avg F1-score: 0.7448\n",
    "\n",
    "Logistic Regression\n",
    "- Avg F1-score: 0.81"
   ]
  },
  {
   "cell_type": "code",
   "execution_count": null,
   "id": "219ac4dc",
   "metadata": {},
   "outputs": [],
   "source": []
  }
 ],
 "metadata": {
  "kernelspec": {
   "display_name": "Python 3",
   "language": "python",
   "name": "python3"
  },
  "language_info": {
   "codemirror_mode": {
    "name": "ipython",
    "version": 3
   },
   "file_extension": ".py",
   "mimetype": "text/x-python",
   "name": "python",
   "nbconvert_exporter": "python",
   "pygments_lexer": "ipython3",
   "version": "3.8.8"
  }
 },
 "nbformat": 4,
 "nbformat_minor": 5
}
