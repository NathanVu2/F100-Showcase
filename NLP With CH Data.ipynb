{
 "cells": [
  {
   "cell_type": "code",
   "execution_count": 1,
   "id": "5fede55d",
   "metadata": {},
   "outputs": [],
   "source": [
    "import pandas as pd\n",
    "import numpy as np\n",
    "from sklearn import preprocessing\n",
    "from sklearn.feature_extraction.text import CountVectorizer\n",
    "from sklearn.model_selection import train_test_split\n",
    "from sklearn.linear_model import LogisticRegression\n",
    "from keras.models import Sequential\n",
    "from keras import layers\n",
    "from keras.backend import clear_session\n",
    "import matplotlib.pyplot as plt\n",
    "from keras.preprocessing.text import Tokenizer\n",
    "from keras.preprocessing.sequence import pad_sequences\n",
    "from keras.wrappers.scikit_learn import KerasClassifier\n",
    "from sklearn.model_selection import RandomizedSearchCV"
   ]
  },
  {
   "cell_type": "code",
   "execution_count": 2,
   "id": "1a5ba1e3",
   "metadata": {},
   "outputs": [],
   "source": [
    "dfCH = pd.read_excel('CPSC Clearinghouse.xlsx')"
   ]
  },
  {
   "cell_type": "code",
   "execution_count": 3,
   "id": "45a6fd5f",
   "metadata": {},
   "outputs": [
    {
     "data": {
      "text/html": [
       "<div>\n",
       "<style scoped>\n",
       "    .dataframe tbody tr th:only-of-type {\n",
       "        vertical-align: middle;\n",
       "    }\n",
       "\n",
       "    .dataframe tbody tr th {\n",
       "        vertical-align: top;\n",
       "    }\n",
       "\n",
       "    .dataframe thead th {\n",
       "        text-align: right;\n",
       "    }\n",
       "</style>\n",
       "<table border=\"1\" class=\"dataframe\">\n",
       "  <thead>\n",
       "    <tr style=\"text-align: right;\">\n",
       "      <th></th>\n",
       "      <th>STATE</th>\n",
       "      <th>INCIDENT YEAR</th>\n",
       "      <th>INCIDENT MONTH</th>\n",
       "      <th>PRODUCT 1</th>\n",
       "      <th>PRODUCT HAZARD TYPE</th>\n",
       "      <th>PRODUCT HAZARD</th>\n",
       "      <th>VICTIM 1 GENDER</th>\n",
       "      <th>VICTIM 1 AGE YEARS</th>\n",
       "      <th>VICTIM 1 INJURY</th>\n",
       "      <th>VICTIM 1 BODY PART</th>\n",
       "      <th>VICTIM 1 SEVERITY</th>\n",
       "      <th>INCIDENT DESCRIPTION</th>\n",
       "    </tr>\n",
       "  </thead>\n",
       "  <tbody>\n",
       "    <tr>\n",
       "      <th>0</th>\n",
       "      <td>SC</td>\n",
       "      <td>2001.0</td>\n",
       "      <td>8.0</td>\n",
       "      <td>Pressure Cookers or Canners (412)</td>\n",
       "      <td>Thermal</td>\n",
       "      <td>Hot Liquid or Steam</td>\n",
       "      <td>Female</td>\n",
       "      <td>69</td>\n",
       "      <td>Burn-Scald</td>\n",
       "      <td>Trunk</td>\n",
       "      <td>Hospital Admission</td>\n",
       "      <td>69 YOF WAS COOKING IN PRESSURE COOKER. POT STA...</td>\n",
       "    </tr>\n",
       "    <tr>\n",
       "      <th>1</th>\n",
       "      <td>PA</td>\n",
       "      <td>2001.0</td>\n",
       "      <td>9.0</td>\n",
       "      <td>Oven Cleaners (942)</td>\n",
       "      <td>Chemical</td>\n",
       "      <td>Poisoning</td>\n",
       "      <td>Female</td>\n",
       "      <td>17</td>\n",
       "      <td>Poisoning</td>\n",
       "      <td>All Parts of the body</td>\n",
       "      <td>Death</td>\n",
       "      <td>28 YOF DECEDENT  WHEN SHE WAS 17 YO  INGESTED ...</td>\n",
       "    </tr>\n",
       "    <tr>\n",
       "      <th>2</th>\n",
       "      <td>MA</td>\n",
       "      <td>2001.0</td>\n",
       "      <td>11.0</td>\n",
       "      <td>Gas Ranges or Ovens (279)</td>\n",
       "      <td>Thermal</td>\n",
       "      <td>Hot surface</td>\n",
       "      <td>Female</td>\n",
       "      <td>40</td>\n",
       "      <td>Burn-Thermal</td>\n",
       "      <td>Hand</td>\n",
       "      <td>No First Aid or Medical Attention Received</td>\n",
       "      <td>THE CONSUMER REPORTED SEVERAL ISSUES WITH HER ...</td>\n",
       "    </tr>\n",
       "    <tr>\n",
       "      <th>3</th>\n",
       "      <td>CA</td>\n",
       "      <td>2001.0</td>\n",
       "      <td>11.0</td>\n",
       "      <td>Ladders  Other or Not Specified (4078)</td>\n",
       "      <td>Mechanical</td>\n",
       "      <td>Fall</td>\n",
       "      <td>Male</td>\n",
       "      <td>60</td>\n",
       "      <td>Internal Organ Injury</td>\n",
       "      <td>Head</td>\n",
       "      <td>Death</td>\n",
       "      <td>73 YOM DECEDENT FELL FROM LADDER WHEN HE WAS 6...</td>\n",
       "    </tr>\n",
       "    <tr>\n",
       "      <th>4</th>\n",
       "      <td>FL</td>\n",
       "      <td>2001.0</td>\n",
       "      <td>10.0</td>\n",
       "      <td>House Repair or Construction Materials nec (1876)</td>\n",
       "      <td>Mechanical</td>\n",
       "      <td>Struck by</td>\n",
       "      <td>Male</td>\n",
       "      <td>45</td>\n",
       "      <td>Other/Not Stated</td>\n",
       "      <td>Unspecified</td>\n",
       "      <td>Death</td>\n",
       "      <td>THE MALE SUBJECT WAS STRUCK BY ROOFING MATERIA...</td>\n",
       "    </tr>\n",
       "  </tbody>\n",
       "</table>\n",
       "</div>"
      ],
      "text/plain": [
       "  STATE  INCIDENT YEAR  INCIDENT MONTH  \\\n",
       "0    SC         2001.0             8.0   \n",
       "1    PA         2001.0             9.0   \n",
       "2    MA         2001.0            11.0   \n",
       "3    CA         2001.0            11.0   \n",
       "4    FL         2001.0            10.0   \n",
       "\n",
       "                                           PRODUCT 1 PRODUCT HAZARD TYPE  \\\n",
       "0                  Pressure Cookers or Canners (412)            Thermal    \n",
       "1                                Oven Cleaners (942)           Chemical    \n",
       "2                          Gas Ranges or Ovens (279)            Thermal    \n",
       "3             Ladders  Other or Not Specified (4078)         Mechanical    \n",
       "4  House Repair or Construction Materials nec (1876)         Mechanical    \n",
       "\n",
       "        PRODUCT HAZARD  VICTIM 1 GENDER  VICTIM 1 AGE YEARS  \\\n",
       "0   Hot Liquid or Steam          Female                  69   \n",
       "1            Poisoning           Female                  17   \n",
       "2           Hot surface          Female                  40   \n",
       "3                  Fall            Male                  60   \n",
       "4             Struck by            Male                  45   \n",
       "\n",
       "         VICTIM 1 INJURY     VICTIM 1 BODY PART  \\\n",
       "0             Burn-Scald                  Trunk   \n",
       "1              Poisoning  All Parts of the body   \n",
       "2           Burn-Thermal                   Hand   \n",
       "3  Internal Organ Injury                   Head   \n",
       "4       Other/Not Stated            Unspecified   \n",
       "\n",
       "                            VICTIM 1 SEVERITY  \\\n",
       "0                          Hospital Admission   \n",
       "1                                       Death   \n",
       "2  No First Aid or Medical Attention Received   \n",
       "3                                       Death   \n",
       "4                                       Death   \n",
       "\n",
       "                                INCIDENT DESCRIPTION  \n",
       "0  69 YOF WAS COOKING IN PRESSURE COOKER. POT STA...  \n",
       "1  28 YOF DECEDENT  WHEN SHE WAS 17 YO  INGESTED ...  \n",
       "2  THE CONSUMER REPORTED SEVERAL ISSUES WITH HER ...  \n",
       "3  73 YOM DECEDENT FELL FROM LADDER WHEN HE WAS 6...  \n",
       "4  THE MALE SUBJECT WAS STRUCK BY ROOFING MATERIA...  "
      ]
     },
     "execution_count": 3,
     "metadata": {},
     "output_type": "execute_result"
    }
   ],
   "source": [
    "dfCH.head()"
   ]
  },
  {
   "cell_type": "markdown",
   "id": "8e250f83",
   "metadata": {},
   "source": [
    "## Prepare Data"
   ]
  },
  {
   "cell_type": "code",
   "execution_count": 4,
   "id": "1afa84ff",
   "metadata": {},
   "outputs": [],
   "source": [
    "df2 = dfCH[['VICTIM 1 SEVERITY','INCIDENT DESCRIPTION']]"
   ]
  },
  {
   "cell_type": "code",
   "execution_count": 5,
   "id": "6fac6ee9",
   "metadata": {},
   "outputs": [],
   "source": [
    "df2 = df2.rename({'VICTIM 1 SEVERITY':'SEVERITY'}, axis=1)"
   ]
  },
  {
   "cell_type": "code",
   "execution_count": 6,
   "id": "475ebc30",
   "metadata": {},
   "outputs": [],
   "source": [
    "df2 = df2.drop(df2[df2.SEVERITY == 'Level of care not known'].index)\n",
    "df2 = df2.drop(df2[df2.SEVERITY == 'Incident  No Injury'].index)\n",
    "df2 = df2.drop(df2[df2.SEVERITY == 'Death'].index)"
   ]
  },
  {
   "cell_type": "markdown",
   "id": "54b4acdb",
   "metadata": {},
   "source": [
    "## Changing dependent variable to binary"
   ]
  },
  {
   "cell_type": "code",
   "execution_count": 7,
   "id": "a4dff386",
   "metadata": {},
   "outputs": [],
   "source": [
    "df_binary_CH = df2\n",
    "df_binary_CH = df_binary_CH.replace(['Emergency Department Treatment Received',\n",
    "                                     'Seen by Medical Professional',\n",
    "                                     'Hospital Admission'], 1)\n",
    "df_binary_CH = df_binary_CH.replace(['First Aid Received by Non-Medical Professional',\n",
    "                                     'No First Aid or Medical Attention Received'], 0)"
   ]
  },
  {
   "cell_type": "code",
   "execution_count": 8,
   "id": "60a222f1",
   "metadata": {},
   "outputs": [
    {
     "data": {
      "text/html": [
       "<div>\n",
       "<style scoped>\n",
       "    .dataframe tbody tr th:only-of-type {\n",
       "        vertical-align: middle;\n",
       "    }\n",
       "\n",
       "    .dataframe tbody tr th {\n",
       "        vertical-align: top;\n",
       "    }\n",
       "\n",
       "    .dataframe thead th {\n",
       "        text-align: right;\n",
       "    }\n",
       "</style>\n",
       "<table border=\"1\" class=\"dataframe\">\n",
       "  <thead>\n",
       "    <tr style=\"text-align: right;\">\n",
       "      <th></th>\n",
       "      <th>SEVERITY</th>\n",
       "      <th>INCIDENT DESCRIPTION</th>\n",
       "    </tr>\n",
       "  </thead>\n",
       "  <tbody>\n",
       "    <tr>\n",
       "      <th>0</th>\n",
       "      <td>1</td>\n",
       "      <td>69 YOF WAS COOKING IN PRESSURE COOKER. POT STA...</td>\n",
       "    </tr>\n",
       "    <tr>\n",
       "      <th>2</th>\n",
       "      <td>0</td>\n",
       "      <td>THE CONSUMER REPORTED SEVERAL ISSUES WITH HER ...</td>\n",
       "    </tr>\n",
       "    <tr>\n",
       "      <th>8</th>\n",
       "      <td>0</td>\n",
       "      <td>THE CONSUMER STATED THAT SHE NOTICED THAT THE ...</td>\n",
       "    </tr>\n",
       "    <tr>\n",
       "      <th>10</th>\n",
       "      <td>0</td>\n",
       "      <td>GE GLASS TOP GAS RANGE IS NOT RECALLED  HOWEVE...</td>\n",
       "    </tr>\n",
       "    <tr>\n",
       "      <th>12</th>\n",
       "      <td>1</td>\n",
       "      <td>8 YOF SUFFERED CRUSHED FEMUR WHEN PORTABLE SOC...</td>\n",
       "    </tr>\n",
       "  </tbody>\n",
       "</table>\n",
       "</div>"
      ],
      "text/plain": [
       "    SEVERITY                               INCIDENT DESCRIPTION\n",
       "0          1  69 YOF WAS COOKING IN PRESSURE COOKER. POT STA...\n",
       "2          0  THE CONSUMER REPORTED SEVERAL ISSUES WITH HER ...\n",
       "8          0  THE CONSUMER STATED THAT SHE NOTICED THAT THE ...\n",
       "10         0  GE GLASS TOP GAS RANGE IS NOT RECALLED  HOWEVE...\n",
       "12         1  8 YOF SUFFERED CRUSHED FEMUR WHEN PORTABLE SOC..."
      ]
     },
     "execution_count": 8,
     "metadata": {},
     "output_type": "execute_result"
    }
   ],
   "source": [
    "df_binary_CH.head()"
   ]
  },
  {
   "cell_type": "code",
   "execution_count": 9,
   "id": "ace323e9",
   "metadata": {},
   "outputs": [],
   "source": [
    "df_binary_CH = df_binary_CH.dropna()"
   ]
  },
  {
   "cell_type": "markdown",
   "id": "0d9769d6",
   "metadata": {},
   "source": [
    "## Create Train Test Split"
   ]
  },
  {
   "cell_type": "code",
   "execution_count": 10,
   "id": "39aec136",
   "metadata": {},
   "outputs": [
    {
     "data": {
      "text/plain": [
       "<11304x24216 sparse matrix of type '<class 'numpy.int64'>'\n",
       "\twith 663535 stored elements in Compressed Sparse Row format>"
      ]
     },
     "execution_count": 10,
     "metadata": {},
     "output_type": "execute_result"
    }
   ],
   "source": [
    "sentences = df_binary_CH['INCIDENT DESCRIPTION'].values\n",
    "y = df_binary_CH['SEVERITY'].values\n",
    "sentences_train, sentences_test, y_train, y_test = train_test_split(\n",
    "    sentences, y, test_size=0.25, random_state=1000)\n",
    "vectorizer = CountVectorizer()\n",
    "vectorizer.fit(sentences_train)\n",
    "\n",
    "X_train = vectorizer.transform(sentences_train)\n",
    "X_test  = vectorizer.transform(sentences_test)\n",
    "X_train"
   ]
  },
  {
   "cell_type": "markdown",
   "id": "39fe677b",
   "metadata": {},
   "source": [
    "## Logistic Regression"
   ]
  },
  {
   "cell_type": "code",
   "execution_count": 11,
   "id": "e30eb88d",
   "metadata": {
    "scrolled": true
   },
   "outputs": [
    {
     "name": "stdout",
     "output_type": "stream",
     "text": [
      "Accuracy: 0.8946390658174098\n"
     ]
    }
   ],
   "source": [
    "classifier = LogisticRegression(solver='lbfgs', max_iter=10000)\n",
    "classifier.fit(X_train, y_train)\n",
    "score = classifier.score(X_test, y_test)\n",
    "\n",
    "print(\"Accuracy:\", score)"
   ]
  },
  {
   "cell_type": "markdown",
   "id": "bf9df408",
   "metadata": {},
   "source": [
    "## Artificial Neural Network (ANN)"
   ]
  },
  {
   "cell_type": "code",
   "execution_count": 12,
   "id": "02fa3942",
   "metadata": {},
   "outputs": [],
   "source": [
    "def create_model(num_filters, kernel_size, vocab_size, embedding_dim, maxlen):\n",
    "    model = Sequential()\n",
    "    model.add(layers.Embedding(vocab_size, embedding_dim, input_length=maxlen))\n",
    "    model.add(layers.Conv1D(num_filters, kernel_size, activation='relu'))\n",
    "    model.add(layers.GlobalMaxPooling1D())\n",
    "    model.add(layers.Dense(10, activation='relu'))\n",
    "    model.add(layers.Dense(1, activation='sigmoid'))\n",
    "    model.compile(optimizer='adam',\n",
    "                  loss='binary_crossentropy',\n",
    "                  metrics=['accuracy'])\n",
    "    return model"
   ]
  },
  {
   "cell_type": "code",
   "execution_count": 13,
   "id": "601da514",
   "metadata": {},
   "outputs": [],
   "source": [
    "param_grid = dict(num_filters=[32, 64, 128],\n",
    "                  kernel_size=[3, 5, 7],\n",
    "                  vocab_size=[5000], \n",
    "                  embedding_dim=[50],\n",
    "                  maxlen=[100])"
   ]
  },
  {
   "cell_type": "code",
   "execution_count": 18,
   "id": "832e940d",
   "metadata": {},
   "outputs": [
    {
     "name": "stderr",
     "output_type": "stream",
     "text": [
      "<ipython-input-18-e83f8122d318>:33: DeprecationWarning: KerasClassifier is deprecated, use Sci-Keras (https://github.com/adriangb/scikeras) instead.\n",
      "  model = KerasClassifier(build_fn=create_model,\n"
     ]
    },
    {
     "name": "stdout",
     "output_type": "stream",
     "text": [
      "Fitting 4 folds for each of 5 candidates, totalling 20 fits\n",
      "Running Clearinghouse data set\n",
      "Best Accuracy : 0.8830\n",
      "{'vocab_size': 25897, 'num_filters': 32, 'maxlen': 100, 'kernel_size': 5, 'embedding_dim': 50}\n",
      "Test Accuracy : 0.8899\n",
      "\n",
      "\n"
     ]
    }
   ],
   "source": [
    "# Main settings\n",
    "epochs = 20\n",
    "embedding_dim = 50\n",
    "maxlen = 100\n",
    "output_file = 'data/output.txt'\n",
    "source = 'Clearinghouse'\n",
    "\n",
    "# Train-test split\n",
    "sentences = df_binary_CH['INCIDENT DESCRIPTION'].values\n",
    "y = df_binary_CH['SEVERITY'].values\n",
    "sentences_train, sentences_test, y_train, y_test = train_test_split(\n",
    "    sentences, y, test_size=0.25, random_state=1000)\n",
    "\n",
    "# Tokenize words\n",
    "tokenizer = Tokenizer(num_words=5000)\n",
    "tokenizer.fit_on_texts(sentences_train)\n",
    "X_train = tokenizer.texts_to_sequences(sentences_train)\n",
    "X_test = tokenizer.texts_to_sequences(sentences_test)\n",
    "\n",
    "# Adding 1 because of reserved 0 index\n",
    "vocab_size = len(tokenizer.word_index) + 1\n",
    "\n",
    "# Pad sequences with zeros\n",
    "X_train = pad_sequences(X_train, padding='post', maxlen=maxlen)\n",
    "X_test = pad_sequences(X_test, padding='post', maxlen=maxlen)\n",
    "\n",
    "# Parameter grid for grid search\n",
    "param_grid = dict(num_filters=[32, 64, 128],\n",
    "                  kernel_size=[3, 5, 7],\n",
    "                  vocab_size=[vocab_size],\n",
    "                  embedding_dim=[embedding_dim],\n",
    "                  maxlen=[maxlen])\n",
    "model = KerasClassifier(build_fn=create_model,\n",
    "                        epochs=epochs, batch_size=10,\n",
    "                        verbose=False)\n",
    "grid = RandomizedSearchCV(estimator=model, param_distributions=param_grid,\n",
    "                          cv=4, verbose=1, n_iter=5)\n",
    "grid_result = grid.fit(X_train, y_train)\n",
    "\n",
    "# Evaluate testing set\n",
    "test_accuracy = grid.score(X_test, y_test)\n",
    "\n",
    "# Save and evaluate results\n",
    "s = ('Running {} data set\\nBest Accuracy : '\n",
    "             '{:.4f}\\n{}\\nTest Accuracy : {:.4f}\\n\\n')\n",
    "output_string = s.format(\n",
    "    source,\n",
    "    grid_result.best_score_,\n",
    "    grid_result.best_params_,\n",
    "    test_accuracy)\n",
    "print(output_string)"
   ]
  },
  {
   "cell_type": "code",
   "execution_count": null,
   "id": "c6dfe6c0",
   "metadata": {},
   "outputs": [],
   "source": []
  }
 ],
 "metadata": {
  "kernelspec": {
   "display_name": "Python 3",
   "language": "python",
   "name": "python3"
  },
  "language_info": {
   "codemirror_mode": {
    "name": "ipython",
    "version": 3
   },
   "file_extension": ".py",
   "mimetype": "text/x-python",
   "name": "python",
   "nbconvert_exporter": "python",
   "pygments_lexer": "ipython3",
   "version": "3.8.8"
  }
 },
 "nbformat": 4,
 "nbformat_minor": 5
}
