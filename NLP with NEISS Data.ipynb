{
 "cells": [
  {
   "cell_type": "code",
   "execution_count": 1,
   "id": "86778798",
   "metadata": {},
   "outputs": [],
   "source": [
    "import pandas as pd\n",
    "import numpy as np\n",
    "from sklearn import preprocessing\n",
    "from sklearn.feature_extraction.text import CountVectorizer\n",
    "from sklearn.model_selection import train_test_split\n",
    "from sklearn.linear_model import LogisticRegression\n",
    "from keras.models import Sequential\n",
    "from keras import layers\n",
    "from keras.backend import clear_session\n",
    "import matplotlib.pyplot as plt\n",
    "from keras.preprocessing.text import Tokenizer\n",
    "from keras.preprocessing.sequence import pad_sequences\n",
    "from keras.wrappers.scikit_learn import KerasClassifier\n",
    "from sklearn.model_selection import RandomizedSearchCV"
   ]
  },
  {
   "cell_type": "code",
   "execution_count": 3,
   "id": "a8b6d1ec",
   "metadata": {},
   "outputs": [],
   "source": [
    "dfNEISS = pd.read_csv('HPGH_labeled.csv')"
   ]
  },
  {
   "cell_type": "code",
   "execution_count": 4,
   "id": "42d13eb3",
   "metadata": {},
   "outputs": [
    {
     "data": {
      "text/html": [
       "<div>\n",
       "<style scoped>\n",
       "    .dataframe tbody tr th:only-of-type {\n",
       "        vertical-align: middle;\n",
       "    }\n",
       "\n",
       "    .dataframe tbody tr th {\n",
       "        vertical-align: top;\n",
       "    }\n",
       "\n",
       "    .dataframe thead th {\n",
       "        text-align: right;\n",
       "    }\n",
       "</style>\n",
       "<table border=\"1\" class=\"dataframe\">\n",
       "  <thead>\n",
       "    <tr style=\"text-align: right;\">\n",
       "      <th></th>\n",
       "      <th>Unnamed: 0</th>\n",
       "      <th>CPSC_Case_Number</th>\n",
       "      <th>Treatment_Date</th>\n",
       "      <th>Age</th>\n",
       "      <th>Sex</th>\n",
       "      <th>Race</th>\n",
       "      <th>Body_Part</th>\n",
       "      <th>Diagnosis</th>\n",
       "      <th>Disposition</th>\n",
       "      <th>Location</th>\n",
       "      <th>Fire_Involvement</th>\n",
       "      <th>Alcohol</th>\n",
       "      <th>Drug</th>\n",
       "      <th>Product</th>\n",
       "      <th>Narrative</th>\n",
       "    </tr>\n",
       "  </thead>\n",
       "  <tbody>\n",
       "    <tr>\n",
       "      <th>0</th>\n",
       "      <td>0</td>\n",
       "      <td>190103353</td>\n",
       "      <td>2019-01-01</td>\n",
       "      <td>26</td>\n",
       "      <td>Male</td>\n",
       "      <td>Black/African American</td>\n",
       "      <td>Hand</td>\n",
       "      <td>Fracture</td>\n",
       "      <td>Treated and Admitted/Hospitalized</td>\n",
       "      <td>Home</td>\n",
       "      <td>No Fire Involved or Fire Involvement Not Recorded</td>\n",
       "      <td>Yes</td>\n",
       "      <td>No/No information</td>\n",
       "      <td>FIREWORKS</td>\n",
       "      <td>26YOM WAS INTOXICATED ATTEMPTING TO LIGHT A LA...</td>\n",
       "    </tr>\n",
       "    <tr>\n",
       "      <th>1</th>\n",
       "      <td>1</td>\n",
       "      <td>190103412</td>\n",
       "      <td>2019-01-01</td>\n",
       "      <td>73</td>\n",
       "      <td>Female</td>\n",
       "      <td>White</td>\n",
       "      <td>Head</td>\n",
       "      <td>Hematoma</td>\n",
       "      <td>Treated and Admitted/Hospitalized</td>\n",
       "      <td>Home</td>\n",
       "      <td>No Fire Involved or Fire Involvement Not Recorded</td>\n",
       "      <td>No/No Information</td>\n",
       "      <td>No/No information</td>\n",
       "      <td>GLASS DOORS OR DOORS WITH GLASS PANELS</td>\n",
       "      <td>73YOF FELL STRUCK HEAD ON A GLASS DOOR AND SUS...</td>\n",
       "    </tr>\n",
       "    <tr>\n",
       "      <th>2</th>\n",
       "      <td>2</td>\n",
       "      <td>190103415</td>\n",
       "      <td>2019-01-01</td>\n",
       "      <td>85</td>\n",
       "      <td>Female</td>\n",
       "      <td>White</td>\n",
       "      <td>Lower Trunk</td>\n",
       "      <td>Fracture</td>\n",
       "      <td>Treated and Admitted/Hospitalized</td>\n",
       "      <td>Home</td>\n",
       "      <td>No Fire Involved or Fire Involvement Not Recorded</td>\n",
       "      <td>No/No Information</td>\n",
       "      <td>No/No information</td>\n",
       "      <td>FLOORS OR FLOORING MATERIALS</td>\n",
       "      <td>85YOF WAS TAKING FOOD OUT OF THE MICROWAVE OVE...</td>\n",
       "    </tr>\n",
       "    <tr>\n",
       "      <th>3</th>\n",
       "      <td>3</td>\n",
       "      <td>190103459</td>\n",
       "      <td>2019-01-01</td>\n",
       "      <td>4</td>\n",
       "      <td>Male</td>\n",
       "      <td>White</td>\n",
       "      <td>Shoulder</td>\n",
       "      <td>Fracture</td>\n",
       "      <td>Treated/Examined and Released</td>\n",
       "      <td>Home</td>\n",
       "      <td>No Fire Involved or Fire Involvement Not Recorded</td>\n",
       "      <td>No/No Information</td>\n",
       "      <td>No/No information</td>\n",
       "      <td>BEDS OR BEDFRAMES, OTHER OR NOT SPECIFIED</td>\n",
       "      <td>4 YO M FELL OFF BED AND LANDED ON RT SHOULDER ...</td>\n",
       "    </tr>\n",
       "    <tr>\n",
       "      <th>4</th>\n",
       "      <td>4</td>\n",
       "      <td>190104001</td>\n",
       "      <td>2019-01-01</td>\n",
       "      <td>23</td>\n",
       "      <td>Male</td>\n",
       "      <td>White</td>\n",
       "      <td>Wrist</td>\n",
       "      <td>Laceration</td>\n",
       "      <td>Treated/Examined and Released</td>\n",
       "      <td>Home</td>\n",
       "      <td>No Fire Involved or Fire Involvement Not Recorded</td>\n",
       "      <td>No/No Information</td>\n",
       "      <td>No/No information</td>\n",
       "      <td>KNIVES, NOT ELSEWHERE CLASSIFIED</td>\n",
       "      <td>23YOM TRIPPED AND FELL INTO OPEN DISHWASAHER, ...</td>\n",
       "    </tr>\n",
       "  </tbody>\n",
       "</table>\n",
       "</div>"
      ],
      "text/plain": [
       "   Unnamed: 0  CPSC_Case_Number Treatment_Date  Age     Sex  \\\n",
       "0           0         190103353     2019-01-01   26    Male   \n",
       "1           1         190103412     2019-01-01   73  Female   \n",
       "2           2         190103415     2019-01-01   85  Female   \n",
       "3           3         190103459     2019-01-01    4    Male   \n",
       "4           4         190104001     2019-01-01   23    Male   \n",
       "\n",
       "                     Race    Body_Part   Diagnosis  \\\n",
       "0  Black/African American         Hand    Fracture   \n",
       "1                   White         Head    Hematoma   \n",
       "2                   White  Lower Trunk    Fracture   \n",
       "3                   White     Shoulder    Fracture   \n",
       "4                   White        Wrist  Laceration   \n",
       "\n",
       "                         Disposition Location  \\\n",
       "0  Treated and Admitted/Hospitalized     Home   \n",
       "1  Treated and Admitted/Hospitalized     Home   \n",
       "2  Treated and Admitted/Hospitalized     Home   \n",
       "3      Treated/Examined and Released     Home   \n",
       "4      Treated/Examined and Released     Home   \n",
       "\n",
       "                                    Fire_Involvement            Alcohol  \\\n",
       "0  No Fire Involved or Fire Involvement Not Recorded                Yes   \n",
       "1  No Fire Involved or Fire Involvement Not Recorded  No/No Information   \n",
       "2  No Fire Involved or Fire Involvement Not Recorded  No/No Information   \n",
       "3  No Fire Involved or Fire Involvement Not Recorded  No/No Information   \n",
       "4  No Fire Involved or Fire Involvement Not Recorded  No/No Information   \n",
       "\n",
       "                Drug                                     Product  \\\n",
       "0  No/No information                                   FIREWORKS   \n",
       "1  No/No information      GLASS DOORS OR DOORS WITH GLASS PANELS   \n",
       "2  No/No information                FLOORS OR FLOORING MATERIALS   \n",
       "3  No/No information   BEDS OR BEDFRAMES, OTHER OR NOT SPECIFIED   \n",
       "4  No/No information            KNIVES, NOT ELSEWHERE CLASSIFIED   \n",
       "\n",
       "                                           Narrative  \n",
       "0  26YOM WAS INTOXICATED ATTEMPTING TO LIGHT A LA...  \n",
       "1  73YOF FELL STRUCK HEAD ON A GLASS DOOR AND SUS...  \n",
       "2  85YOF WAS TAKING FOOD OUT OF THE MICROWAVE OVE...  \n",
       "3  4 YO M FELL OFF BED AND LANDED ON RT SHOULDER ...  \n",
       "4  23YOM TRIPPED AND FELL INTO OPEN DISHWASAHER, ...  "
      ]
     },
     "execution_count": 4,
     "metadata": {},
     "output_type": "execute_result"
    }
   ],
   "source": [
    "dfNEISS.head()"
   ]
  },
  {
   "cell_type": "markdown",
   "id": "e3d97f50",
   "metadata": {},
   "source": [
    "## Prepare Data"
   ]
  },
  {
   "cell_type": "code",
   "execution_count": 5,
   "id": "ebb914cc",
   "metadata": {},
   "outputs": [],
   "source": [
    "df2 = dfNEISS[['Disposition','Narrative']]"
   ]
  },
  {
   "cell_type": "code",
   "execution_count": 6,
   "id": "a0b5da36",
   "metadata": {},
   "outputs": [
    {
     "data": {
      "text/plain": [
       "Treated/Examined and Released        237324\n",
       "Treated and Admitted/Hospitalized     30376\n",
       "Treated and Transferred                3732\n",
       "Held for Observation                   3527\n",
       "Left Without Being Seen                2446\n",
       "Fatality, Incl. DOA, Died in ER         234\n",
       "Name: Disposition, dtype: int64"
      ]
     },
     "execution_count": 6,
     "metadata": {},
     "output_type": "execute_result"
    }
   ],
   "source": [
    "df2['Disposition'].value_counts()"
   ]
  },
  {
   "cell_type": "code",
   "execution_count": 7,
   "id": "f77da445",
   "metadata": {},
   "outputs": [],
   "source": [
    "df2 = df2.drop(df2[df2.Disposition == 'Fatality, Incl. DOA, Died in ER'].index)"
   ]
  },
  {
   "cell_type": "markdown",
   "id": "8467c712",
   "metadata": {},
   "source": [
    "## Changing dependent variable to binary"
   ]
  },
  {
   "cell_type": "code",
   "execution_count": 8,
   "id": "603cffe2",
   "metadata": {},
   "outputs": [],
   "source": [
    "df_binary_NEISS = df2\n",
    "df_binary_NEISS = df_binary_NEISS.replace(['Treated and Admitted/Hospitalized',\n",
    "                                     'Treated and Transferred'], 1)\n",
    "df_binary_NEISS = df_binary_NEISS.replace(['Treated/Examined and Released',\n",
    "                                     'Held for Observation',\n",
    "                                         'Left Without Being Seen'], 0)"
   ]
  },
  {
   "cell_type": "code",
   "execution_count": 9,
   "id": "d6c57068",
   "metadata": {},
   "outputs": [
    {
     "data": {
      "text/html": [
       "<div>\n",
       "<style scoped>\n",
       "    .dataframe tbody tr th:only-of-type {\n",
       "        vertical-align: middle;\n",
       "    }\n",
       "\n",
       "    .dataframe tbody tr th {\n",
       "        vertical-align: top;\n",
       "    }\n",
       "\n",
       "    .dataframe thead th {\n",
       "        text-align: right;\n",
       "    }\n",
       "</style>\n",
       "<table border=\"1\" class=\"dataframe\">\n",
       "  <thead>\n",
       "    <tr style=\"text-align: right;\">\n",
       "      <th></th>\n",
       "      <th>Disposition</th>\n",
       "      <th>Narrative</th>\n",
       "    </tr>\n",
       "  </thead>\n",
       "  <tbody>\n",
       "    <tr>\n",
       "      <th>0</th>\n",
       "      <td>1</td>\n",
       "      <td>26YOM WAS INTOXICATED ATTEMPTING TO LIGHT A LA...</td>\n",
       "    </tr>\n",
       "    <tr>\n",
       "      <th>1</th>\n",
       "      <td>1</td>\n",
       "      <td>73YOF FELL STRUCK HEAD ON A GLASS DOOR AND SUS...</td>\n",
       "    </tr>\n",
       "    <tr>\n",
       "      <th>2</th>\n",
       "      <td>1</td>\n",
       "      <td>85YOF WAS TAKING FOOD OUT OF THE MICROWAVE OVE...</td>\n",
       "    </tr>\n",
       "    <tr>\n",
       "      <th>3</th>\n",
       "      <td>0</td>\n",
       "      <td>4 YO M FELL OFF BED AND LANDED ON RT SHOULDER ...</td>\n",
       "    </tr>\n",
       "    <tr>\n",
       "      <th>4</th>\n",
       "      <td>0</td>\n",
       "      <td>23YOM TRIPPED AND FELL INTO OPEN DISHWASAHER, ...</td>\n",
       "    </tr>\n",
       "  </tbody>\n",
       "</table>\n",
       "</div>"
      ],
      "text/plain": [
       "   Disposition                                          Narrative\n",
       "0            1  26YOM WAS INTOXICATED ATTEMPTING TO LIGHT A LA...\n",
       "1            1  73YOF FELL STRUCK HEAD ON A GLASS DOOR AND SUS...\n",
       "2            1  85YOF WAS TAKING FOOD OUT OF THE MICROWAVE OVE...\n",
       "3            0  4 YO M FELL OFF BED AND LANDED ON RT SHOULDER ...\n",
       "4            0  23YOM TRIPPED AND FELL INTO OPEN DISHWASAHER, ..."
      ]
     },
     "execution_count": 9,
     "metadata": {},
     "output_type": "execute_result"
    }
   ],
   "source": [
    "df_binary_NEISS.head()"
   ]
  },
  {
   "cell_type": "code",
   "execution_count": 10,
   "id": "d356bab1",
   "metadata": {},
   "outputs": [],
   "source": [
    "df_binary_NEISS = df_binary_NEISS.dropna()"
   ]
  },
  {
   "cell_type": "markdown",
   "id": "568a24ae",
   "metadata": {},
   "source": [
    "## Create Train Test Split"
   ]
  },
  {
   "cell_type": "code",
   "execution_count": 11,
   "id": "d7323e72",
   "metadata": {},
   "outputs": [
    {
     "data": {
      "text/plain": [
       "<208053x34047 sparse matrix of type '<class 'numpy.int64'>'\n",
       "\twith 3732384 stored elements in Compressed Sparse Row format>"
      ]
     },
     "execution_count": 11,
     "metadata": {},
     "output_type": "execute_result"
    }
   ],
   "source": [
    "sentences = df_binary_NEISS['Narrative'].values\n",
    "y = df_binary_NEISS['Disposition'].values\n",
    "sentences_train, sentences_test, y_train, y_test = train_test_split(\n",
    "    sentences, y, test_size=0.25, random_state=1000)\n",
    "vectorizer = CountVectorizer()\n",
    "vectorizer.fit(sentences_train)\n",
    "\n",
    "X_train = vectorizer.transform(sentences_train)\n",
    "X_test  = vectorizer.transform(sentences_test)\n",
    "X_train"
   ]
  },
  {
   "cell_type": "markdown",
   "id": "8afc4d14",
   "metadata": {},
   "source": [
    "## Logistic Regression"
   ]
  },
  {
   "cell_type": "code",
   "execution_count": 12,
   "id": "c9680677",
   "metadata": {},
   "outputs": [
    {
     "name": "stdout",
     "output_type": "stream",
     "text": [
      "Accuracy: 0.9234052370515631\n"
     ]
    }
   ],
   "source": [
    "classifier = LogisticRegression(solver='lbfgs', max_iter=10000)\n",
    "classifier.fit(X_train, y_train)\n",
    "score = classifier.score(X_test, y_test)\n",
    "\n",
    "print(\"Accuracy:\", score)"
   ]
  },
  {
   "cell_type": "markdown",
   "id": "41823b46",
   "metadata": {},
   "source": [
    "## Artificial Neural Network (ANN)"
   ]
  },
  {
   "cell_type": "code",
   "execution_count": 13,
   "id": "7c9d903c",
   "metadata": {},
   "outputs": [],
   "source": [
    "def create_model(num_filters, kernel_size, vocab_size, embedding_dim, maxlen):\n",
    "    model = Sequential()\n",
    "    model.add(layers.Embedding(vocab_size, embedding_dim, input_length=maxlen))\n",
    "    model.add(layers.Conv1D(num_filters, kernel_size, activation='relu'))\n",
    "    model.add(layers.GlobalMaxPooling1D())\n",
    "    model.add(layers.Dense(10, activation='relu'))\n",
    "    model.add(layers.Dense(1, activation='sigmoid'))\n",
    "    model.compile(optimizer='adam',\n",
    "                  loss='binary_crossentropy',\n",
    "                  metrics=['accuracy'])\n",
    "    return model"
   ]
  },
  {
   "cell_type": "code",
   "execution_count": 14,
   "id": "7dc12be1",
   "metadata": {},
   "outputs": [],
   "source": [
    "param_grid = dict(num_filters=[32, 64, 128],\n",
    "                  kernel_size=[3, 5, 7],\n",
    "                  vocab_size=[5000], \n",
    "                  embedding_dim=[50],\n",
    "                  maxlen=[100])"
   ]
  },
  {
   "cell_type": "code",
   "execution_count": 16,
   "id": "28eacd26",
   "metadata": {},
   "outputs": [
    {
     "name": "stderr",
     "output_type": "stream",
     "text": [
      "<ipython-input-16-b5843d6cb2af>:33: DeprecationWarning: KerasClassifier is deprecated, use Sci-Keras (https://github.com/adriangb/scikeras) instead.\n",
      "  model = KerasClassifier(build_fn=create_model,\n"
     ]
    },
    {
     "name": "stdout",
     "output_type": "stream",
     "text": [
      "Fitting 4 folds for each of 5 candidates, totalling 20 fits\n",
      "Running NEISS data set\n",
      "Best Accuracy : 0.9002\n",
      "{'vocab_size': 34808, 'num_filters': 64, 'maxlen': 100, 'kernel_size': 3, 'embedding_dim': 50}\n",
      "Test Accuracy : 0.9038\n",
      "\n",
      "\n"
     ]
    }
   ],
   "source": [
    "# Main settings\n",
    "epochs = 20\n",
    "embedding_dim = 50\n",
    "maxlen = 100\n",
    "output_file = 'data/output.txt'\n",
    "source = 'NEISS'\n",
    "\n",
    "# Train-test split\n",
    "sentences = df_binary_NEISS['Narrative'].values\n",
    "y = df_binary_NEISS['Disposition'].values\n",
    "sentences_train, sentences_test, y_train, y_test = train_test_split(\n",
    "    sentences, y, test_size=0.25, random_state=1000)\n",
    "\n",
    "# Tokenize words\n",
    "tokenizer = Tokenizer(num_words=5000)\n",
    "tokenizer.fit_on_texts(sentences_train)\n",
    "X_train = tokenizer.texts_to_sequences(sentences_train)\n",
    "X_test = tokenizer.texts_to_sequences(sentences_test)\n",
    "\n",
    "# Adding 1 because of reserved 0 index\n",
    "vocab_size = len(tokenizer.word_index) + 1\n",
    "\n",
    "# Pad sequences with zeros\n",
    "X_train = pad_sequences(X_train, padding='post', maxlen=maxlen)\n",
    "X_test = pad_sequences(X_test, padding='post', maxlen=maxlen)\n",
    "\n",
    "# Parameter grid for grid search\n",
    "param_grid = dict(num_filters=[32, 64, 128],\n",
    "                  kernel_size=[3, 5, 7],\n",
    "                  vocab_size=[vocab_size],\n",
    "                  embedding_dim=[embedding_dim],\n",
    "                  maxlen=[maxlen])\n",
    "model = KerasClassifier(build_fn=create_model,\n",
    "                        epochs=epochs, batch_size=10,\n",
    "                        verbose=False)\n",
    "grid = RandomizedSearchCV(estimator=model, param_distributions=param_grid,\n",
    "                          cv=4, verbose=1, n_iter=5)\n",
    "grid_result = grid.fit(X_train, y_train)\n",
    "\n",
    "# Evaluate testing set\n",
    "test_accuracy = grid.score(X_test, y_test)\n",
    "\n",
    "# Save and evaluate results\n",
    "s = ('Running {} data set\\nBest Accuracy : '\n",
    "             '{:.4f}\\n{}\\nTest Accuracy : {:.4f}\\n\\n')\n",
    "output_string = s.format(\n",
    "    source,\n",
    "    grid_result.best_score_,\n",
    "    grid_result.best_params_,\n",
    "    test_accuracy)\n",
    "print(output_string)"
   ]
  },
  {
   "cell_type": "code",
   "execution_count": null,
   "id": "fa84e313",
   "metadata": {},
   "outputs": [],
   "source": []
  }
 ],
 "metadata": {
  "kernelspec": {
   "display_name": "Python 3",
   "language": "python",
   "name": "python3"
  },
  "language_info": {
   "codemirror_mode": {
    "name": "ipython",
    "version": 3
   },
   "file_extension": ".py",
   "mimetype": "text/x-python",
   "name": "python",
   "nbconvert_exporter": "python",
   "pygments_lexer": "ipython3",
   "version": "3.8.8"
  }
 },
 "nbformat": 4,
 "nbformat_minor": 5
}
