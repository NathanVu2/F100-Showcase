{
 "cells": [
  {
   "cell_type": "code",
   "execution_count": 39,
   "id": "6678b793",
   "metadata": {},
   "outputs": [],
   "source": [
    "#Load libraries and packages\n",
    "import itertools\n",
    "import numpy as np\n",
    "import matplotlib.pyplot as plt\n",
    "from matplotlib.ticker import NullFormatter\n",
    "import pandas as pd\n",
    "import numpy as np\n",
    "import matplotlib.ticker as ticker\n",
    "from sklearn import preprocessing\n",
    "%matplotlib inline\n",
    "from sklearn import svm\n",
    "from sklearn import metrics\n",
    "from sklearn.metrics import f1_score\n",
    "from sklearn.metrics import jaccard_score\n",
    "from sklearn.model_selection import train_test_split\n",
    "from sklearn.neighbors import KNeighborsClassifier\n",
    "from sklearn.tree import DecisionTreeClassifier\n",
    "from sklearn.linear_model import LogisticRegression\n",
    "from sklearn.metrics import log_loss\n",
    "from sklearn.metrics import classification_report, confusion_matrix"
   ]
  },
  {
   "cell_type": "markdown",
   "id": "01c7e36a",
   "metadata": {},
   "source": [
    "# Loading in the Dataset"
   ]
  },
  {
   "cell_type": "markdown",
   "id": "18824af7",
   "metadata": {},
   "source": [
    "- We use pandas as our main package for data manipulation and analysis\n",
    "- Dataset has been pre-cleaned in excel:\n",
    "    - Removed any rows with empty cells\n",
    "    - Changed relevant columns from numerical data to categorical using conversion table provided\n",
    "        - e.g. For Alcohol use: <br/> \n",
    "            0 - Yes, <br/> \n",
    "            1 - No/No Information"
   ]
  },
  {
   "cell_type": "code",
   "execution_count": 40,
   "id": "0b5d7813",
   "metadata": {},
   "outputs": [],
   "source": [
    "df = pd.read_csv(\"HPGH_labeled.csv\")"
   ]
  },
  {
   "cell_type": "code",
   "execution_count": 3,
   "id": "c0b20591",
   "metadata": {
    "scrolled": false
   },
   "outputs": [
    {
     "data": {
      "text/html": [
       "<div>\n",
       "<style scoped>\n",
       "    .dataframe tbody tr th:only-of-type {\n",
       "        vertical-align: middle;\n",
       "    }\n",
       "\n",
       "    .dataframe tbody tr th {\n",
       "        vertical-align: top;\n",
       "    }\n",
       "\n",
       "    .dataframe thead th {\n",
       "        text-align: right;\n",
       "    }\n",
       "</style>\n",
       "<table border=\"1\" class=\"dataframe\">\n",
       "  <thead>\n",
       "    <tr style=\"text-align: right;\">\n",
       "      <th></th>\n",
       "      <th>Unnamed: 0</th>\n",
       "      <th>CPSC_Case_Number</th>\n",
       "      <th>Treatment_Date</th>\n",
       "      <th>Age</th>\n",
       "      <th>Sex</th>\n",
       "      <th>Race</th>\n",
       "      <th>Body_Part</th>\n",
       "      <th>Diagnosis</th>\n",
       "      <th>Disposition</th>\n",
       "      <th>Location</th>\n",
       "      <th>Fire_Involvement</th>\n",
       "      <th>Alcohol</th>\n",
       "      <th>Drug</th>\n",
       "      <th>Product</th>\n",
       "      <th>Narrative</th>\n",
       "    </tr>\n",
       "  </thead>\n",
       "  <tbody>\n",
       "    <tr>\n",
       "      <th>0</th>\n",
       "      <td>0</td>\n",
       "      <td>190103353</td>\n",
       "      <td>2019-01-01</td>\n",
       "      <td>26</td>\n",
       "      <td>Male</td>\n",
       "      <td>Black/African American</td>\n",
       "      <td>Hand</td>\n",
       "      <td>Fracture</td>\n",
       "      <td>Treated and Admitted/Hospitalized</td>\n",
       "      <td>Home</td>\n",
       "      <td>No Fire Involved or Fire Involvement Not Recorded</td>\n",
       "      <td>Yes</td>\n",
       "      <td>No/No information</td>\n",
       "      <td>FIREWORKS</td>\n",
       "      <td>26YOM WAS INTOXICATED ATTEMPTING TO LIGHT A LA...</td>\n",
       "    </tr>\n",
       "    <tr>\n",
       "      <th>1</th>\n",
       "      <td>1</td>\n",
       "      <td>190103412</td>\n",
       "      <td>2019-01-01</td>\n",
       "      <td>73</td>\n",
       "      <td>Female</td>\n",
       "      <td>White</td>\n",
       "      <td>Head</td>\n",
       "      <td>Hematoma</td>\n",
       "      <td>Treated and Admitted/Hospitalized</td>\n",
       "      <td>Home</td>\n",
       "      <td>No Fire Involved or Fire Involvement Not Recorded</td>\n",
       "      <td>No/No Information</td>\n",
       "      <td>No/No information</td>\n",
       "      <td>GLASS DOORS OR DOORS WITH GLASS PANELS</td>\n",
       "      <td>73YOF FELL STRUCK HEAD ON A GLASS DOOR AND SUS...</td>\n",
       "    </tr>\n",
       "    <tr>\n",
       "      <th>2</th>\n",
       "      <td>2</td>\n",
       "      <td>190103415</td>\n",
       "      <td>2019-01-01</td>\n",
       "      <td>85</td>\n",
       "      <td>Female</td>\n",
       "      <td>White</td>\n",
       "      <td>Lower Trunk</td>\n",
       "      <td>Fracture</td>\n",
       "      <td>Treated and Admitted/Hospitalized</td>\n",
       "      <td>Home</td>\n",
       "      <td>No Fire Involved or Fire Involvement Not Recorded</td>\n",
       "      <td>No/No Information</td>\n",
       "      <td>No/No information</td>\n",
       "      <td>FLOORS OR FLOORING MATERIALS</td>\n",
       "      <td>85YOF WAS TAKING FOOD OUT OF THE MICROWAVE OVE...</td>\n",
       "    </tr>\n",
       "    <tr>\n",
       "      <th>3</th>\n",
       "      <td>3</td>\n",
       "      <td>190103459</td>\n",
       "      <td>2019-01-01</td>\n",
       "      <td>4</td>\n",
       "      <td>Male</td>\n",
       "      <td>White</td>\n",
       "      <td>Shoulder</td>\n",
       "      <td>Fracture</td>\n",
       "      <td>Treated/Examined and Released</td>\n",
       "      <td>Home</td>\n",
       "      <td>No Fire Involved or Fire Involvement Not Recorded</td>\n",
       "      <td>No/No Information</td>\n",
       "      <td>No/No information</td>\n",
       "      <td>BEDS OR BEDFRAMES, OTHER OR NOT SPECIFIED</td>\n",
       "      <td>4 YO M FELL OFF BED AND LANDED ON RT SHOULDER ...</td>\n",
       "    </tr>\n",
       "    <tr>\n",
       "      <th>4</th>\n",
       "      <td>4</td>\n",
       "      <td>190104001</td>\n",
       "      <td>2019-01-01</td>\n",
       "      <td>23</td>\n",
       "      <td>Male</td>\n",
       "      <td>White</td>\n",
       "      <td>Wrist</td>\n",
       "      <td>Laceration</td>\n",
       "      <td>Treated/Examined and Released</td>\n",
       "      <td>Home</td>\n",
       "      <td>No Fire Involved or Fire Involvement Not Recorded</td>\n",
       "      <td>No/No Information</td>\n",
       "      <td>No/No information</td>\n",
       "      <td>KNIVES, NOT ELSEWHERE CLASSIFIED</td>\n",
       "      <td>23YOM TRIPPED AND FELL INTO OPEN DISHWASAHER, ...</td>\n",
       "    </tr>\n",
       "  </tbody>\n",
       "</table>\n",
       "</div>"
      ],
      "text/plain": [
       "   Unnamed: 0  CPSC_Case_Number Treatment_Date  Age     Sex  \\\n",
       "0           0         190103353     2019-01-01   26    Male   \n",
       "1           1         190103412     2019-01-01   73  Female   \n",
       "2           2         190103415     2019-01-01   85  Female   \n",
       "3           3         190103459     2019-01-01    4    Male   \n",
       "4           4         190104001     2019-01-01   23    Male   \n",
       "\n",
       "                     Race    Body_Part   Diagnosis  \\\n",
       "0  Black/African American         Hand    Fracture   \n",
       "1                   White         Head    Hematoma   \n",
       "2                   White  Lower Trunk    Fracture   \n",
       "3                   White     Shoulder    Fracture   \n",
       "4                   White        Wrist  Laceration   \n",
       "\n",
       "                         Disposition Location  \\\n",
       "0  Treated and Admitted/Hospitalized     Home   \n",
       "1  Treated and Admitted/Hospitalized     Home   \n",
       "2  Treated and Admitted/Hospitalized     Home   \n",
       "3      Treated/Examined and Released     Home   \n",
       "4      Treated/Examined and Released     Home   \n",
       "\n",
       "                                    Fire_Involvement            Alcohol  \\\n",
       "0  No Fire Involved or Fire Involvement Not Recorded                Yes   \n",
       "1  No Fire Involved or Fire Involvement Not Recorded  No/No Information   \n",
       "2  No Fire Involved or Fire Involvement Not Recorded  No/No Information   \n",
       "3  No Fire Involved or Fire Involvement Not Recorded  No/No Information   \n",
       "4  No Fire Involved or Fire Involvement Not Recorded  No/No Information   \n",
       "\n",
       "                Drug                                     Product  \\\n",
       "0  No/No information                                   FIREWORKS   \n",
       "1  No/No information      GLASS DOORS OR DOORS WITH GLASS PANELS   \n",
       "2  No/No information                FLOORS OR FLOORING MATERIALS   \n",
       "3  No/No information   BEDS OR BEDFRAMES, OTHER OR NOT SPECIFIED   \n",
       "4  No/No information            KNIVES, NOT ELSEWHERE CLASSIFIED   \n",
       "\n",
       "                                           Narrative  \n",
       "0  26YOM WAS INTOXICATED ATTEMPTING TO LIGHT A LA...  \n",
       "1  73YOF FELL STRUCK HEAD ON A GLASS DOOR AND SUS...  \n",
       "2  85YOF WAS TAKING FOOD OUT OF THE MICROWAVE OVE...  \n",
       "3  4 YO M FELL OFF BED AND LANDED ON RT SHOULDER ...  \n",
       "4  23YOM TRIPPED AND FELL INTO OPEN DISHWASAHER, ...  "
      ]
     },
     "execution_count": 3,
     "metadata": {},
     "output_type": "execute_result"
    }
   ],
   "source": [
    "df.head()"
   ]
  },
  {
   "cell_type": "markdown",
   "id": "a67487b4",
   "metadata": {},
   "source": [
    "# Preparation"
   ]
  },
  {
   "cell_type": "markdown",
   "id": "29803a50",
   "metadata": {},
   "source": [
    "The dataset is sliced into the independent variables and the dependent variable we are interested in predicting using our model.\n",
    "\n",
    "The independent variables used are (we are assuming these variables are independent):\n",
    "- Age, body part, diagnosis, location, alcohol involvement, and drug involvement\n",
    "\n",
    "The dependent variable used is:\n",
    "- Disposition \n",
    "\n",
    "The independent variables are broken down into dummy variables and normalised.\n",
    "\n",
    "Finally the subset is split into a test and train set to discourage the model overfitting the data."
   ]
  },
  {
   "cell_type": "code",
   "execution_count": 4,
   "id": "53c3b286",
   "metadata": {},
   "outputs": [
    {
     "data": {
      "text/plain": [
       "Treated/Examined and Released        237324\n",
       "Treated and Admitted/Hospitalized     30376\n",
       "Treated and Transferred                3732\n",
       "Held for Observation                   3527\n",
       "Left Without Being Seen                2446\n",
       "Fatality, Incl. DOA, Died in ER         234\n",
       "Name: Disposition, dtype: int64"
      ]
     },
     "execution_count": 4,
     "metadata": {},
     "output_type": "execute_result"
    }
   ],
   "source": [
    "df['Disposition'].value_counts()"
   ]
  },
  {
   "cell_type": "code",
   "execution_count": 41,
   "id": "458eac04",
   "metadata": {},
   "outputs": [],
   "source": [
    "df.drop(df[df.Disposition == 'Fatality, Incl. DOA, Died in ER'].index, inplace=True)"
   ]
  },
  {
   "cell_type": "code",
   "execution_count": 42,
   "id": "a8d797ce",
   "metadata": {},
   "outputs": [
    {
     "data": {
      "text/html": [
       "<div>\n",
       "<style scoped>\n",
       "    .dataframe tbody tr th:only-of-type {\n",
       "        vertical-align: middle;\n",
       "    }\n",
       "\n",
       "    .dataframe tbody tr th {\n",
       "        vertical-align: top;\n",
       "    }\n",
       "\n",
       "    .dataframe thead th {\n",
       "        text-align: right;\n",
       "    }\n",
       "</style>\n",
       "<table border=\"1\" class=\"dataframe\">\n",
       "  <thead>\n",
       "    <tr style=\"text-align: right;\">\n",
       "      <th></th>\n",
       "      <th>Age</th>\n",
       "      <th>Age</th>\n",
       "      <th>Body_Part_25-50% of Body</th>\n",
       "      <th>Body_Part_All Parts Body</th>\n",
       "      <th>Body_Part_Ankle</th>\n",
       "      <th>Body_Part_Ear</th>\n",
       "      <th>Body_Part_Elbow</th>\n",
       "      <th>Body_Part_Eyeball</th>\n",
       "      <th>Body_Part_Face</th>\n",
       "      <th>Body_Part_Finger</th>\n",
       "      <th>...</th>\n",
       "      <th>Location_Industrial</th>\n",
       "      <th>Location_Mobile/Manufactured Home</th>\n",
       "      <th>Location_Other Public Property</th>\n",
       "      <th>Location_Place of Recreation or Sports</th>\n",
       "      <th>Location_School/Daycare</th>\n",
       "      <th>Location_Street or Highway</th>\n",
       "      <th>Alcohol_No/No Information</th>\n",
       "      <th>Alcohol_Yes</th>\n",
       "      <th>Drug_No/No information</th>\n",
       "      <th>Drug_Yes</th>\n",
       "    </tr>\n",
       "  </thead>\n",
       "  <tbody>\n",
       "    <tr>\n",
       "      <th>0</th>\n",
       "      <td>26</td>\n",
       "      <td>26</td>\n",
       "      <td>0</td>\n",
       "      <td>0</td>\n",
       "      <td>0</td>\n",
       "      <td>0</td>\n",
       "      <td>0</td>\n",
       "      <td>0</td>\n",
       "      <td>0</td>\n",
       "      <td>0</td>\n",
       "      <td>...</td>\n",
       "      <td>0</td>\n",
       "      <td>0</td>\n",
       "      <td>0</td>\n",
       "      <td>0</td>\n",
       "      <td>0</td>\n",
       "      <td>0</td>\n",
       "      <td>0</td>\n",
       "      <td>1</td>\n",
       "      <td>1</td>\n",
       "      <td>0</td>\n",
       "    </tr>\n",
       "    <tr>\n",
       "      <th>1</th>\n",
       "      <td>73</td>\n",
       "      <td>73</td>\n",
       "      <td>0</td>\n",
       "      <td>0</td>\n",
       "      <td>0</td>\n",
       "      <td>0</td>\n",
       "      <td>0</td>\n",
       "      <td>0</td>\n",
       "      <td>0</td>\n",
       "      <td>0</td>\n",
       "      <td>...</td>\n",
       "      <td>0</td>\n",
       "      <td>0</td>\n",
       "      <td>0</td>\n",
       "      <td>0</td>\n",
       "      <td>0</td>\n",
       "      <td>0</td>\n",
       "      <td>1</td>\n",
       "      <td>0</td>\n",
       "      <td>1</td>\n",
       "      <td>0</td>\n",
       "    </tr>\n",
       "    <tr>\n",
       "      <th>2</th>\n",
       "      <td>85</td>\n",
       "      <td>85</td>\n",
       "      <td>0</td>\n",
       "      <td>0</td>\n",
       "      <td>0</td>\n",
       "      <td>0</td>\n",
       "      <td>0</td>\n",
       "      <td>0</td>\n",
       "      <td>0</td>\n",
       "      <td>0</td>\n",
       "      <td>...</td>\n",
       "      <td>0</td>\n",
       "      <td>0</td>\n",
       "      <td>0</td>\n",
       "      <td>0</td>\n",
       "      <td>0</td>\n",
       "      <td>0</td>\n",
       "      <td>1</td>\n",
       "      <td>0</td>\n",
       "      <td>1</td>\n",
       "      <td>0</td>\n",
       "    </tr>\n",
       "    <tr>\n",
       "      <th>3</th>\n",
       "      <td>4</td>\n",
       "      <td>4</td>\n",
       "      <td>0</td>\n",
       "      <td>0</td>\n",
       "      <td>0</td>\n",
       "      <td>0</td>\n",
       "      <td>0</td>\n",
       "      <td>0</td>\n",
       "      <td>0</td>\n",
       "      <td>0</td>\n",
       "      <td>...</td>\n",
       "      <td>0</td>\n",
       "      <td>0</td>\n",
       "      <td>0</td>\n",
       "      <td>0</td>\n",
       "      <td>0</td>\n",
       "      <td>0</td>\n",
       "      <td>1</td>\n",
       "      <td>0</td>\n",
       "      <td>1</td>\n",
       "      <td>0</td>\n",
       "    </tr>\n",
       "    <tr>\n",
       "      <th>4</th>\n",
       "      <td>23</td>\n",
       "      <td>23</td>\n",
       "      <td>0</td>\n",
       "      <td>0</td>\n",
       "      <td>0</td>\n",
       "      <td>0</td>\n",
       "      <td>0</td>\n",
       "      <td>0</td>\n",
       "      <td>0</td>\n",
       "      <td>0</td>\n",
       "      <td>...</td>\n",
       "      <td>0</td>\n",
       "      <td>0</td>\n",
       "      <td>0</td>\n",
       "      <td>0</td>\n",
       "      <td>0</td>\n",
       "      <td>0</td>\n",
       "      <td>1</td>\n",
       "      <td>0</td>\n",
       "      <td>1</td>\n",
       "      <td>0</td>\n",
       "    </tr>\n",
       "  </tbody>\n",
       "</table>\n",
       "<p>5 rows × 70 columns</p>\n",
       "</div>"
      ],
      "text/plain": [
       "   Age  Age  Body_Part_25-50% of Body  Body_Part_All Parts Body  \\\n",
       "0   26   26                         0                         0   \n",
       "1   73   73                         0                         0   \n",
       "2   85   85                         0                         0   \n",
       "3    4    4                         0                         0   \n",
       "4   23   23                         0                         0   \n",
       "\n",
       "   Body_Part_Ankle  Body_Part_Ear  Body_Part_Elbow  Body_Part_Eyeball  \\\n",
       "0                0              0                0                  0   \n",
       "1                0              0                0                  0   \n",
       "2                0              0                0                  0   \n",
       "3                0              0                0                  0   \n",
       "4                0              0                0                  0   \n",
       "\n",
       "   Body_Part_Face  Body_Part_Finger  ...  Location_Industrial  \\\n",
       "0               0                 0  ...                    0   \n",
       "1               0                 0  ...                    0   \n",
       "2               0                 0  ...                    0   \n",
       "3               0                 0  ...                    0   \n",
       "4               0                 0  ...                    0   \n",
       "\n",
       "   Location_Mobile/Manufactured Home  Location_Other Public Property  \\\n",
       "0                                  0                               0   \n",
       "1                                  0                               0   \n",
       "2                                  0                               0   \n",
       "3                                  0                               0   \n",
       "4                                  0                               0   \n",
       "\n",
       "   Location_Place of Recreation or Sports  Location_School/Daycare  \\\n",
       "0                                       0                        0   \n",
       "1                                       0                        0   \n",
       "2                                       0                        0   \n",
       "3                                       0                        0   \n",
       "4                                       0                        0   \n",
       "\n",
       "   Location_Street or Highway  Alcohol_No/No Information  Alcohol_Yes  \\\n",
       "0                           0                          0            1   \n",
       "1                           0                          1            0   \n",
       "2                           0                          1            0   \n",
       "3                           0                          1            0   \n",
       "4                           0                          1            0   \n",
       "\n",
       "   Drug_No/No information  Drug_Yes  \n",
       "0                       1         0  \n",
       "1                       1         0  \n",
       "2                       1         0  \n",
       "3                       1         0  \n",
       "4                       1         0  \n",
       "\n",
       "[5 rows x 70 columns]"
      ]
     },
     "execution_count": 42,
     "metadata": {},
     "output_type": "execute_result"
    }
   ],
   "source": [
    "#Create dummy variables for independent variables\n",
    "Feature = df[['Age','Body_Part','Diagnosis','Location','Alcohol','Drug']]\n",
    "Feature = pd.concat([Feature,pd.get_dummies(Feature,columns=['Body_Part','Diagnosis','Location','Alcohol','Drug'])], axis=1)\n",
    "Feature = Feature.drop(columns=['Body_Part','Diagnosis','Location','Alcohol','Drug'])\n",
    "Feature.head()"
   ]
  },
  {
   "cell_type": "code",
   "execution_count": 43,
   "id": "1fdfd6b6",
   "metadata": {},
   "outputs": [],
   "source": [
    "X = Feature\n",
    "X= preprocessing.StandardScaler().fit(X).transform(X)"
   ]
  },
  {
   "cell_type": "code",
   "execution_count": 44,
   "id": "a16d8b3e",
   "metadata": {},
   "outputs": [],
   "source": [
    "y = df['Disposition'].values"
   ]
  },
  {
   "cell_type": "code",
   "execution_count": 45,
   "id": "0c71f2f5",
   "metadata": {},
   "outputs": [
    {
     "name": "stdout",
     "output_type": "stream",
     "text": [
      "Train set: (221924, 70) (221924,)\n",
      "Test set: (55481, 70) (55481,)\n"
     ]
    }
   ],
   "source": [
    "#Split dataset into 80% test and 20% train sets\n",
    "X_train, X_test, y_train, y_test = train_test_split( X, y, test_size=0.2, random_state=4)\n",
    "print ('Train set:', X_train.shape,  y_train.shape)\n",
    "print ('Test set:', X_test.shape,  y_test.shape)"
   ]
  },
  {
   "cell_type": "markdown",
   "id": "6e4423c5",
   "metadata": {},
   "source": [
    "# ML Algorithms"
   ]
  },
  {
   "cell_type": "markdown",
   "id": "ad5e8ddd",
   "metadata": {},
   "source": [
    "## K Nearest Neighbor Classification"
   ]
  },
  {
   "cell_type": "code",
   "execution_count": 10,
   "id": "ce0d5a9f",
   "metadata": {},
   "outputs": [
    {
     "data": {
      "text/plain": [
       "array([0.8145311 , 0.77098466, 0.84419891, 0.84800202, 0.86209693,\n",
       "       0.86070907, 0.86822516, 0.86734197, 0.86990141, 0.87044213,\n",
       "       0.87222653, 0.87283935, 0.87345217, 0.87383068, 0.87417314,\n",
       "       0.87401092, 0.87465979, 0.87530866, 0.87539879, 0.87547088,\n",
       "       0.87554298, 0.87539879, 0.87574124, 0.87500225, 0.87512842,\n",
       "       0.87525459, 0.87523657, 0.87572322, 0.87561508])"
      ]
     },
     "execution_count": 10,
     "metadata": {},
     "output_type": "execute_result"
    }
   ],
   "source": [
    "Ks = 30\n",
    "mean_acc = np.zeros((Ks-1))\n",
    "std_acc = np.zeros((Ks-1))\n",
    "\n",
    "for n in range(1,Ks):\n",
    "    \n",
    "    neigh = KNeighborsClassifier(n_neighbors = n).fit(X_train,y_train)\n",
    "    yhat=neigh.predict(X_test)\n",
    "    mean_acc[n-1] = metrics.accuracy_score(y_test, yhat)\n",
    "\n",
    "    std_acc[n-1]=np.std(yhat==y_test)/np.sqrt(yhat.shape[0])\n",
    "\n",
    "mean_acc"
   ]
  },
  {
   "cell_type": "code",
   "execution_count": 11,
   "id": "ad7b0ed9",
   "metadata": {},
   "outputs": [
    {
     "data": {
      "image/png": "[encoded data removed]",
      "text/plain": [
       "<Figure size 432x288 with 1 Axes>"
      ]
     },
     "metadata": {
      "needs_background": "light"
     },
     "output_type": "display_data"
    }
   ],
   "source": [
    "plt.plot(range(1,Ks),mean_acc,'g')\n",
    "plt.fill_between(range(1,Ks),mean_acc - 1 * std_acc,mean_acc + 1 * std_acc, alpha=0.10)\n",
    "plt.fill_between(range(1,Ks),mean_acc - 3 * std_acc,mean_acc + 3 * std_acc, alpha=0.10,color=\"green\")\n",
    "plt.legend(('Accuracy ', '+/- 1xstd','+/- 3xstd'))\n",
    "plt.ylabel('Accuracy ')\n",
    "plt.xlabel('Number of Neighbors (K)')\n",
    "plt.tight_layout()\n",
    "plt.show()"
   ]
  },
  {
   "cell_type": "code",
   "execution_count": 12,
   "id": "0875e99f",
   "metadata": {},
   "outputs": [
    {
     "name": "stdout",
     "output_type": "stream",
     "text": [
      "The best accuracy was with 0.8757412447504551 with k= 23\n"
     ]
    }
   ],
   "source": [
    "print( \"The best accuracy was with\", mean_acc.max(), \"with k=\", mean_acc.argmax()+1) "
   ]
  },
  {
   "cell_type": "markdown",
   "id": "dcb8f8da",
   "metadata": {},
   "source": [
    "## Decision Tree Classification"
   ]
  },
  {
   "cell_type": "code",
   "execution_count": 13,
   "id": "5ec63a10",
   "metadata": {},
   "outputs": [
    {
     "name": "stdout",
     "output_type": "stream",
     "text": [
      "['Treated/Examined and Released' 'Treated/Examined and Released'\n",
      " 'Treated/Examined and Released' 'Treated/Examined and Released'\n",
      " 'Treated/Examined and Released']\n",
      "['Treated/Examined and Released' 'Treated and Admitted/Hospitalized'\n",
      " 'Treated/Examined and Released' 'Left Without Being Seen'\n",
      " 'Treated/Examined and Released']\n"
     ]
    }
   ],
   "source": [
    "#Decision Tree Classification\n",
    "loanTree = DecisionTreeClassifier(criterion=\"entropy\", max_depth = 4)\n",
    "loanTree.fit(X_train,y_train)\n",
    "predTree = loanTree.predict(X_test)\n",
    "print (predTree [0:5])\n",
    "print (y_test [0:5])"
   ]
  },
  {
   "cell_type": "code",
   "execution_count": 14,
   "id": "bc0a5788",
   "metadata": {
    "scrolled": true
   },
   "outputs": [
    {
     "name": "stdout",
     "output_type": "stream",
     "text": [
      "DecisionTrees's Accuracy:  0.8716858023467493\n"
     ]
    }
   ],
   "source": [
    "print(\"DecisionTrees's Accuracy: \", metrics.accuracy_score(y_test, predTree))"
   ]
  },
  {
   "cell_type": "code",
   "execution_count": 46,
   "id": "5fdcbb37",
   "metadata": {},
   "outputs": [
    {
     "name": "stdout",
     "output_type": "stream",
     "text": [
      "Accuracy: 0.8717038265352103\n"
     ]
    }
   ],
   "source": [
    "classifier = LogisticRegression(solver='lbfgs', max_iter=10000)\n",
    "classifier.fit(X_train, y_train)\n",
    "score = classifier.score(X_test, y_test)\n",
    "\n",
    "print(\"Accuracy:\", score)"
   ]
  },
  {
   "cell_type": "markdown",
   "id": "5eece796",
   "metadata": {},
   "source": [
    "# Critical Analysis"
   ]
  },
  {
   "cell_type": "code",
   "execution_count": 15,
   "id": "76f1c87a",
   "metadata": {
    "scrolled": false
   },
   "outputs": [
    {
     "data": {
      "text/html": [
       "<div>\n",
       "<style scoped>\n",
       "    .dataframe tbody tr th:only-of-type {\n",
       "        vertical-align: middle;\n",
       "    }\n",
       "\n",
       "    .dataframe tbody tr th {\n",
       "        vertical-align: top;\n",
       "    }\n",
       "\n",
       "    .dataframe thead th {\n",
       "        text-align: right;\n",
       "    }\n",
       "</style>\n",
       "<table border=\"1\" class=\"dataframe\">\n",
       "  <thead>\n",
       "    <tr style=\"text-align: right;\">\n",
       "      <th></th>\n",
       "      <th>Unnamed: 0</th>\n",
       "      <th>CPSC_Case_Number</th>\n",
       "      <th>Treatment_Date</th>\n",
       "      <th>Age</th>\n",
       "      <th>Sex</th>\n",
       "      <th>Race</th>\n",
       "      <th>Body_Part</th>\n",
       "      <th>Diagnosis</th>\n",
       "      <th>Location</th>\n",
       "      <th>Fire_Involvement</th>\n",
       "      <th>Alcohol</th>\n",
       "      <th>Drug</th>\n",
       "      <th>Product</th>\n",
       "      <th>Narrative</th>\n",
       "    </tr>\n",
       "    <tr>\n",
       "      <th>Disposition</th>\n",
       "      <th></th>\n",
       "      <th></th>\n",
       "      <th></th>\n",
       "      <th></th>\n",
       "      <th></th>\n",
       "      <th></th>\n",
       "      <th></th>\n",
       "      <th></th>\n",
       "      <th></th>\n",
       "      <th></th>\n",
       "      <th></th>\n",
       "      <th></th>\n",
       "      <th></th>\n",
       "      <th></th>\n",
       "    </tr>\n",
       "  </thead>\n",
       "  <tbody>\n",
       "    <tr>\n",
       "      <th>Held for Observation</th>\n",
       "      <td>3527</td>\n",
       "      <td>3527</td>\n",
       "      <td>3527</td>\n",
       "      <td>3527</td>\n",
       "      <td>3527</td>\n",
       "      <td>3527</td>\n",
       "      <td>3527</td>\n",
       "      <td>3527</td>\n",
       "      <td>3527</td>\n",
       "      <td>3527</td>\n",
       "      <td>3527</td>\n",
       "      <td>3527</td>\n",
       "      <td>3527</td>\n",
       "      <td>3527</td>\n",
       "    </tr>\n",
       "    <tr>\n",
       "      <th>Left Without Being Seen</th>\n",
       "      <td>2446</td>\n",
       "      <td>2446</td>\n",
       "      <td>2446</td>\n",
       "      <td>2446</td>\n",
       "      <td>2446</td>\n",
       "      <td>2446</td>\n",
       "      <td>2446</td>\n",
       "      <td>2446</td>\n",
       "      <td>2446</td>\n",
       "      <td>2446</td>\n",
       "      <td>2446</td>\n",
       "      <td>2446</td>\n",
       "      <td>2446</td>\n",
       "      <td>2446</td>\n",
       "    </tr>\n",
       "    <tr>\n",
       "      <th>Treated and Admitted/Hospitalized</th>\n",
       "      <td>30376</td>\n",
       "      <td>30376</td>\n",
       "      <td>30376</td>\n",
       "      <td>30376</td>\n",
       "      <td>30376</td>\n",
       "      <td>30376</td>\n",
       "      <td>30376</td>\n",
       "      <td>30376</td>\n",
       "      <td>30376</td>\n",
       "      <td>30376</td>\n",
       "      <td>30376</td>\n",
       "      <td>30376</td>\n",
       "      <td>30376</td>\n",
       "      <td>30376</td>\n",
       "    </tr>\n",
       "    <tr>\n",
       "      <th>Treated and Transferred</th>\n",
       "      <td>3732</td>\n",
       "      <td>3732</td>\n",
       "      <td>3732</td>\n",
       "      <td>3732</td>\n",
       "      <td>3732</td>\n",
       "      <td>3732</td>\n",
       "      <td>3732</td>\n",
       "      <td>3732</td>\n",
       "      <td>3732</td>\n",
       "      <td>3732</td>\n",
       "      <td>3732</td>\n",
       "      <td>3732</td>\n",
       "      <td>3732</td>\n",
       "      <td>3732</td>\n",
       "    </tr>\n",
       "    <tr>\n",
       "      <th>Treated/Examined and Released</th>\n",
       "      <td>237324</td>\n",
       "      <td>237324</td>\n",
       "      <td>237324</td>\n",
       "      <td>237324</td>\n",
       "      <td>237324</td>\n",
       "      <td>237324</td>\n",
       "      <td>237324</td>\n",
       "      <td>237324</td>\n",
       "      <td>237324</td>\n",
       "      <td>237324</td>\n",
       "      <td>237324</td>\n",
       "      <td>237324</td>\n",
       "      <td>237324</td>\n",
       "      <td>237324</td>\n",
       "    </tr>\n",
       "  </tbody>\n",
       "</table>\n",
       "</div>"
      ],
      "text/plain": [
       "                                   Unnamed: 0  CPSC_Case_Number  \\\n",
       "Disposition                                                       \n",
       "Held for Observation                     3527              3527   \n",
       "Left Without Being Seen                  2446              2446   \n",
       "Treated and Admitted/Hospitalized       30376             30376   \n",
       "Treated and Transferred                  3732              3732   \n",
       "Treated/Examined and Released          237324            237324   \n",
       "\n",
       "                                   Treatment_Date     Age     Sex    Race  \\\n",
       "Disposition                                                                 \n",
       "Held for Observation                         3527    3527    3527    3527   \n",
       "Left Without Being Seen                      2446    2446    2446    2446   \n",
       "Treated and Admitted/Hospitalized           30376   30376   30376   30376   \n",
       "Treated and Transferred                      3732    3732    3732    3732   \n",
       "Treated/Examined and Released              237324  237324  237324  237324   \n",
       "\n",
       "                                   Body_Part  Diagnosis  Location  \\\n",
       "Disposition                                                         \n",
       "Held for Observation                    3527       3527      3527   \n",
       "Left Without Being Seen                 2446       2446      2446   \n",
       "Treated and Admitted/Hospitalized      30376      30376     30376   \n",
       "Treated and Transferred                 3732       3732      3732   \n",
       "Treated/Examined and Released         237324     237324    237324   \n",
       "\n",
       "                                   Fire_Involvement  Alcohol    Drug  Product  \\\n",
       "Disposition                                                                     \n",
       "Held for Observation                           3527     3527    3527     3527   \n",
       "Left Without Being Seen                        2446     2446    2446     2446   \n",
       "Treated and Admitted/Hospitalized             30376    30376   30376    30376   \n",
       "Treated and Transferred                        3732     3732    3732     3732   \n",
       "Treated/Examined and Released                237324   237324  237324   237324   \n",
       "\n",
       "                                   Narrative  \n",
       "Disposition                                   \n",
       "Held for Observation                    3527  \n",
       "Left Without Being Seen                 2446  \n",
       "Treated and Admitted/Hospitalized      30376  \n",
       "Treated and Transferred                 3732  \n",
       "Treated/Examined and Released         237324  "
      ]
     },
     "execution_count": 15,
     "metadata": {},
     "output_type": "execute_result"
    }
   ],
   "source": [
    "#Grouping cases by disposition\n",
    "df.groupby(['Disposition']).count()"
   ]
  },
  {
   "cell_type": "code",
   "execution_count": 36,
   "id": "533dfdac",
   "metadata": {},
   "outputs": [
    {
     "data": {
      "text/plain": [
       "0.8555145004596169"
      ]
     },
     "execution_count": 36,
     "metadata": {},
     "output_type": "execute_result"
    }
   ],
   "source": [
    "#Percentage of cases where patient was treated/examined and released\n",
    "(237324)/(237324+3527+2446+30376+3732)"
   ]
  },
  {
   "cell_type": "code",
   "execution_count": 17,
   "id": "76425676",
   "metadata": {},
   "outputs": [
    {
     "name": "stdout",
     "output_type": "stream",
     "text": [
      "['Treated/Examined and Released' 'Treated/Examined and Released'\n",
      " 'Treated/Examined and Released' 'Treated/Examined and Released'\n",
      " 'Treated/Examined and Released' 'Treated/Examined and Released'\n",
      " 'Treated/Examined and Released' 'Treated/Examined and Released'\n",
      " 'Treated/Examined and Released' 'Treated/Examined and Released'\n",
      " 'Treated/Examined and Released' 'Treated/Examined and Released'\n",
      " 'Treated/Examined and Released' 'Treated/Examined and Released'\n",
      " 'Treated/Examined and Released' 'Treated/Examined and Released'\n",
      " 'Treated/Examined and Released' 'Treated/Examined and Released'\n",
      " 'Treated/Examined and Released' 'Treated/Examined and Released']\n"
     ]
    }
   ],
   "source": [
    "print (predTree [0:20])"
   ]
  },
  {
   "cell_type": "code",
   "execution_count": 19,
   "id": "99baab4b",
   "metadata": {},
   "outputs": [
    {
     "name": "stdout",
     "output_type": "stream",
     "text": [
      "53949\n"
     ]
    }
   ],
   "source": [
    "predTreat = list1.count(list1[0])\n",
    "print(predTreat)"
   ]
  },
  {
   "cell_type": "code",
   "execution_count": 20,
   "id": "8a4af7c9",
   "metadata": {},
   "outputs": [
    {
     "data": {
      "text/plain": [
       "55481"
      ]
     },
     "execution_count": 20,
     "metadata": {},
     "output_type": "execute_result"
    }
   ],
   "source": [
    "len(list1)"
   ]
  },
  {
   "cell_type": "code",
   "execution_count": 38,
   "id": "23c59140",
   "metadata": {},
   "outputs": [
    {
     "data": {
      "text/plain": [
       "0.9723869432778789"
      ]
     },
     "execution_count": 38,
     "metadata": {},
     "output_type": "execute_result"
    }
   ],
   "source": [
    "#Percentage of treated/examined and released cases predicted\n",
    "53949/55481"
   ]
  },
  {
   "cell_type": "markdown",
   "id": "5d695955",
   "metadata": {},
   "source": [
    "Decision tree predicted over 97% of test data were minor injuries"
   ]
  },
  {
   "cell_type": "markdown",
   "id": "9bd5a45b",
   "metadata": {},
   "source": [
    "# Second Attempt"
   ]
  },
  {
   "cell_type": "markdown",
   "id": "10577bc6",
   "metadata": {},
   "source": [
    "In this attempt we group severity into two groups:\n",
    "- Medical emergencies that require immediate attention and professional care\n",
    "    - Treated and Admitted/Hospitalized\n",
    "    - Treated and Transferred\n",
    "- Non emergency injuries that could still require treatment\n",
    "    - Treated/Examined and Released\n",
    "    - Held for Observation\n",
    "    - Left Without Being Seen"
   ]
  },
  {
   "cell_type": "code",
   "execution_count": 47,
   "id": "d302d8b5",
   "metadata": {},
   "outputs": [],
   "source": [
    "#Group severity into two groups: medical treatment needed vs not needed\n",
    "df.replace({'Treated and Admitted/Hospitalized': 'Severe', \n",
    "            'Treated and Transferred': 'Severe',\n",
    "            'Treated/Examined and Released' : 'Not severe',\n",
    "            'Held for Observation' : 'Not severe',\n",
    "            'Left Without Being Seen' : 'Not severe'}, inplace=True)"
   ]
  },
  {
   "cell_type": "code",
   "execution_count": 23,
   "id": "f9d975b2",
   "metadata": {},
   "outputs": [
    {
     "data": {
      "text/html": [
       "<div>\n",
       "<style scoped>\n",
       "    .dataframe tbody tr th:only-of-type {\n",
       "        vertical-align: middle;\n",
       "    }\n",
       "\n",
       "    .dataframe tbody tr th {\n",
       "        vertical-align: top;\n",
       "    }\n",
       "\n",
       "    .dataframe thead th {\n",
       "        text-align: right;\n",
       "    }\n",
       "</style>\n",
       "<table border=\"1\" class=\"dataframe\">\n",
       "  <thead>\n",
       "    <tr style=\"text-align: right;\">\n",
       "      <th></th>\n",
       "      <th>Unnamed: 0</th>\n",
       "      <th>CPSC_Case_Number</th>\n",
       "      <th>Treatment_Date</th>\n",
       "      <th>Age</th>\n",
       "      <th>Sex</th>\n",
       "      <th>Race</th>\n",
       "      <th>Body_Part</th>\n",
       "      <th>Diagnosis</th>\n",
       "      <th>Disposition</th>\n",
       "      <th>Location</th>\n",
       "      <th>Fire_Involvement</th>\n",
       "      <th>Alcohol</th>\n",
       "      <th>Drug</th>\n",
       "      <th>Product</th>\n",
       "      <th>Narrative</th>\n",
       "    </tr>\n",
       "  </thead>\n",
       "  <tbody>\n",
       "    <tr>\n",
       "      <th>0</th>\n",
       "      <td>0</td>\n",
       "      <td>190103353</td>\n",
       "      <td>2019-01-01</td>\n",
       "      <td>26</td>\n",
       "      <td>Male</td>\n",
       "      <td>Black/African American</td>\n",
       "      <td>Hand</td>\n",
       "      <td>Fracture</td>\n",
       "      <td>Severe</td>\n",
       "      <td>Home</td>\n",
       "      <td>No Fire Involved or Fire Involvement Not Recorded</td>\n",
       "      <td>Yes</td>\n",
       "      <td>No/No information</td>\n",
       "      <td>FIREWORKS</td>\n",
       "      <td>26YOM WAS INTOXICATED ATTEMPTING TO LIGHT A LA...</td>\n",
       "    </tr>\n",
       "    <tr>\n",
       "      <th>1</th>\n",
       "      <td>1</td>\n",
       "      <td>190103412</td>\n",
       "      <td>2019-01-01</td>\n",
       "      <td>73</td>\n",
       "      <td>Female</td>\n",
       "      <td>White</td>\n",
       "      <td>Head</td>\n",
       "      <td>Hematoma</td>\n",
       "      <td>Severe</td>\n",
       "      <td>Home</td>\n",
       "      <td>No Fire Involved or Fire Involvement Not Recorded</td>\n",
       "      <td>No/No Information</td>\n",
       "      <td>No/No information</td>\n",
       "      <td>GLASS DOORS OR DOORS WITH GLASS PANELS</td>\n",
       "      <td>73YOF FELL STRUCK HEAD ON A GLASS DOOR AND SUS...</td>\n",
       "    </tr>\n",
       "    <tr>\n",
       "      <th>2</th>\n",
       "      <td>2</td>\n",
       "      <td>190103415</td>\n",
       "      <td>2019-01-01</td>\n",
       "      <td>85</td>\n",
       "      <td>Female</td>\n",
       "      <td>White</td>\n",
       "      <td>Lower Trunk</td>\n",
       "      <td>Fracture</td>\n",
       "      <td>Severe</td>\n",
       "      <td>Home</td>\n",
       "      <td>No Fire Involved or Fire Involvement Not Recorded</td>\n",
       "      <td>No/No Information</td>\n",
       "      <td>No/No information</td>\n",
       "      <td>FLOORS OR FLOORING MATERIALS</td>\n",
       "      <td>85YOF WAS TAKING FOOD OUT OF THE MICROWAVE OVE...</td>\n",
       "    </tr>\n",
       "    <tr>\n",
       "      <th>3</th>\n",
       "      <td>3</td>\n",
       "      <td>190103459</td>\n",
       "      <td>2019-01-01</td>\n",
       "      <td>4</td>\n",
       "      <td>Male</td>\n",
       "      <td>White</td>\n",
       "      <td>Shoulder</td>\n",
       "      <td>Fracture</td>\n",
       "      <td>Not severe</td>\n",
       "      <td>Home</td>\n",
       "      <td>No Fire Involved or Fire Involvement Not Recorded</td>\n",
       "      <td>No/No Information</td>\n",
       "      <td>No/No information</td>\n",
       "      <td>BEDS OR BEDFRAMES, OTHER OR NOT SPECIFIED</td>\n",
       "      <td>4 YO M FELL OFF BED AND LANDED ON RT SHOULDER ...</td>\n",
       "    </tr>\n",
       "    <tr>\n",
       "      <th>4</th>\n",
       "      <td>4</td>\n",
       "      <td>190104001</td>\n",
       "      <td>2019-01-01</td>\n",
       "      <td>23</td>\n",
       "      <td>Male</td>\n",
       "      <td>White</td>\n",
       "      <td>Wrist</td>\n",
       "      <td>Laceration</td>\n",
       "      <td>Not severe</td>\n",
       "      <td>Home</td>\n",
       "      <td>No Fire Involved or Fire Involvement Not Recorded</td>\n",
       "      <td>No/No Information</td>\n",
       "      <td>No/No information</td>\n",
       "      <td>KNIVES, NOT ELSEWHERE CLASSIFIED</td>\n",
       "      <td>23YOM TRIPPED AND FELL INTO OPEN DISHWASAHER, ...</td>\n",
       "    </tr>\n",
       "  </tbody>\n",
       "</table>\n",
       "</div>"
      ],
      "text/plain": [
       "   Unnamed: 0  CPSC_Case_Number Treatment_Date  Age     Sex  \\\n",
       "0           0         190103353     2019-01-01   26    Male   \n",
       "1           1         190103412     2019-01-01   73  Female   \n",
       "2           2         190103415     2019-01-01   85  Female   \n",
       "3           3         190103459     2019-01-01    4    Male   \n",
       "4           4         190104001     2019-01-01   23    Male   \n",
       "\n",
       "                     Race    Body_Part   Diagnosis Disposition Location  \\\n",
       "0  Black/African American         Hand    Fracture      Severe     Home   \n",
       "1                   White         Head    Hematoma      Severe     Home   \n",
       "2                   White  Lower Trunk    Fracture      Severe     Home   \n",
       "3                   White     Shoulder    Fracture  Not severe     Home   \n",
       "4                   White        Wrist  Laceration  Not severe     Home   \n",
       "\n",
       "                                    Fire_Involvement            Alcohol  \\\n",
       "0  No Fire Involved or Fire Involvement Not Recorded                Yes   \n",
       "1  No Fire Involved or Fire Involvement Not Recorded  No/No Information   \n",
       "2  No Fire Involved or Fire Involvement Not Recorded  No/No Information   \n",
       "3  No Fire Involved or Fire Involvement Not Recorded  No/No Information   \n",
       "4  No Fire Involved or Fire Involvement Not Recorded  No/No Information   \n",
       "\n",
       "                Drug                                     Product  \\\n",
       "0  No/No information                                   FIREWORKS   \n",
       "1  No/No information      GLASS DOORS OR DOORS WITH GLASS PANELS   \n",
       "2  No/No information                FLOORS OR FLOORING MATERIALS   \n",
       "3  No/No information   BEDS OR BEDFRAMES, OTHER OR NOT SPECIFIED   \n",
       "4  No/No information            KNIVES, NOT ELSEWHERE CLASSIFIED   \n",
       "\n",
       "                                           Narrative  \n",
       "0  26YOM WAS INTOXICATED ATTEMPTING TO LIGHT A LA...  \n",
       "1  73YOF FELL STRUCK HEAD ON A GLASS DOOR AND SUS...  \n",
       "2  85YOF WAS TAKING FOOD OUT OF THE MICROWAVE OVE...  \n",
       "3  4 YO M FELL OFF BED AND LANDED ON RT SHOULDER ...  \n",
       "4  23YOM TRIPPED AND FELL INTO OPEN DISHWASAHER, ...  "
      ]
     },
     "execution_count": 23,
     "metadata": {},
     "output_type": "execute_result"
    }
   ],
   "source": [
    "df.head()"
   ]
  },
  {
   "cell_type": "code",
   "execution_count": 48,
   "id": "87a91e4c",
   "metadata": {},
   "outputs": [
    {
     "data": {
      "text/html": [
       "<div>\n",
       "<style scoped>\n",
       "    .dataframe tbody tr th:only-of-type {\n",
       "        vertical-align: middle;\n",
       "    }\n",
       "\n",
       "    .dataframe tbody tr th {\n",
       "        vertical-align: top;\n",
       "    }\n",
       "\n",
       "    .dataframe thead th {\n",
       "        text-align: right;\n",
       "    }\n",
       "</style>\n",
       "<table border=\"1\" class=\"dataframe\">\n",
       "  <thead>\n",
       "    <tr style=\"text-align: right;\">\n",
       "      <th></th>\n",
       "      <th>Age</th>\n",
       "      <th>Age</th>\n",
       "      <th>Body_Part_25-50% of Body</th>\n",
       "      <th>Body_Part_All Parts Body</th>\n",
       "      <th>Body_Part_Ankle</th>\n",
       "      <th>Body_Part_Ear</th>\n",
       "      <th>Body_Part_Elbow</th>\n",
       "      <th>Body_Part_Eyeball</th>\n",
       "      <th>Body_Part_Face</th>\n",
       "      <th>Body_Part_Finger</th>\n",
       "      <th>...</th>\n",
       "      <th>Location_Industrial</th>\n",
       "      <th>Location_Mobile/Manufactured Home</th>\n",
       "      <th>Location_Other Public Property</th>\n",
       "      <th>Location_Place of Recreation or Sports</th>\n",
       "      <th>Location_School/Daycare</th>\n",
       "      <th>Location_Street or Highway</th>\n",
       "      <th>Alcohol_No/No Information</th>\n",
       "      <th>Alcohol_Yes</th>\n",
       "      <th>Drug_No/No information</th>\n",
       "      <th>Drug_Yes</th>\n",
       "    </tr>\n",
       "  </thead>\n",
       "  <tbody>\n",
       "    <tr>\n",
       "      <th>0</th>\n",
       "      <td>26</td>\n",
       "      <td>26</td>\n",
       "      <td>0</td>\n",
       "      <td>0</td>\n",
       "      <td>0</td>\n",
       "      <td>0</td>\n",
       "      <td>0</td>\n",
       "      <td>0</td>\n",
       "      <td>0</td>\n",
       "      <td>0</td>\n",
       "      <td>...</td>\n",
       "      <td>0</td>\n",
       "      <td>0</td>\n",
       "      <td>0</td>\n",
       "      <td>0</td>\n",
       "      <td>0</td>\n",
       "      <td>0</td>\n",
       "      <td>0</td>\n",
       "      <td>1</td>\n",
       "      <td>1</td>\n",
       "      <td>0</td>\n",
       "    </tr>\n",
       "    <tr>\n",
       "      <th>1</th>\n",
       "      <td>73</td>\n",
       "      <td>73</td>\n",
       "      <td>0</td>\n",
       "      <td>0</td>\n",
       "      <td>0</td>\n",
       "      <td>0</td>\n",
       "      <td>0</td>\n",
       "      <td>0</td>\n",
       "      <td>0</td>\n",
       "      <td>0</td>\n",
       "      <td>...</td>\n",
       "      <td>0</td>\n",
       "      <td>0</td>\n",
       "      <td>0</td>\n",
       "      <td>0</td>\n",
       "      <td>0</td>\n",
       "      <td>0</td>\n",
       "      <td>1</td>\n",
       "      <td>0</td>\n",
       "      <td>1</td>\n",
       "      <td>0</td>\n",
       "    </tr>\n",
       "    <tr>\n",
       "      <th>2</th>\n",
       "      <td>85</td>\n",
       "      <td>85</td>\n",
       "      <td>0</td>\n",
       "      <td>0</td>\n",
       "      <td>0</td>\n",
       "      <td>0</td>\n",
       "      <td>0</td>\n",
       "      <td>0</td>\n",
       "      <td>0</td>\n",
       "      <td>0</td>\n",
       "      <td>...</td>\n",
       "      <td>0</td>\n",
       "      <td>0</td>\n",
       "      <td>0</td>\n",
       "      <td>0</td>\n",
       "      <td>0</td>\n",
       "      <td>0</td>\n",
       "      <td>1</td>\n",
       "      <td>0</td>\n",
       "      <td>1</td>\n",
       "      <td>0</td>\n",
       "    </tr>\n",
       "    <tr>\n",
       "      <th>3</th>\n",
       "      <td>4</td>\n",
       "      <td>4</td>\n",
       "      <td>0</td>\n",
       "      <td>0</td>\n",
       "      <td>0</td>\n",
       "      <td>0</td>\n",
       "      <td>0</td>\n",
       "      <td>0</td>\n",
       "      <td>0</td>\n",
       "      <td>0</td>\n",
       "      <td>...</td>\n",
       "      <td>0</td>\n",
       "      <td>0</td>\n",
       "      <td>0</td>\n",
       "      <td>0</td>\n",
       "      <td>0</td>\n",
       "      <td>0</td>\n",
       "      <td>1</td>\n",
       "      <td>0</td>\n",
       "      <td>1</td>\n",
       "      <td>0</td>\n",
       "    </tr>\n",
       "    <tr>\n",
       "      <th>4</th>\n",
       "      <td>23</td>\n",
       "      <td>23</td>\n",
       "      <td>0</td>\n",
       "      <td>0</td>\n",
       "      <td>0</td>\n",
       "      <td>0</td>\n",
       "      <td>0</td>\n",
       "      <td>0</td>\n",
       "      <td>0</td>\n",
       "      <td>0</td>\n",
       "      <td>...</td>\n",
       "      <td>0</td>\n",
       "      <td>0</td>\n",
       "      <td>0</td>\n",
       "      <td>0</td>\n",
       "      <td>0</td>\n",
       "      <td>0</td>\n",
       "      <td>1</td>\n",
       "      <td>0</td>\n",
       "      <td>1</td>\n",
       "      <td>0</td>\n",
       "    </tr>\n",
       "  </tbody>\n",
       "</table>\n",
       "<p>5 rows × 70 columns</p>\n",
       "</div>"
      ],
      "text/plain": [
       "   Age  Age  Body_Part_25-50% of Body  Body_Part_All Parts Body  \\\n",
       "0   26   26                         0                         0   \n",
       "1   73   73                         0                         0   \n",
       "2   85   85                         0                         0   \n",
       "3    4    4                         0                         0   \n",
       "4   23   23                         0                         0   \n",
       "\n",
       "   Body_Part_Ankle  Body_Part_Ear  Body_Part_Elbow  Body_Part_Eyeball  \\\n",
       "0                0              0                0                  0   \n",
       "1                0              0                0                  0   \n",
       "2                0              0                0                  0   \n",
       "3                0              0                0                  0   \n",
       "4                0              0                0                  0   \n",
       "\n",
       "   Body_Part_Face  Body_Part_Finger  ...  Location_Industrial  \\\n",
       "0               0                 0  ...                    0   \n",
       "1               0                 0  ...                    0   \n",
       "2               0                 0  ...                    0   \n",
       "3               0                 0  ...                    0   \n",
       "4               0                 0  ...                    0   \n",
       "\n",
       "   Location_Mobile/Manufactured Home  Location_Other Public Property  \\\n",
       "0                                  0                               0   \n",
       "1                                  0                               0   \n",
       "2                                  0                               0   \n",
       "3                                  0                               0   \n",
       "4                                  0                               0   \n",
       "\n",
       "   Location_Place of Recreation or Sports  Location_School/Daycare  \\\n",
       "0                                       0                        0   \n",
       "1                                       0                        0   \n",
       "2                                       0                        0   \n",
       "3                                       0                        0   \n",
       "4                                       0                        0   \n",
       "\n",
       "   Location_Street or Highway  Alcohol_No/No Information  Alcohol_Yes  \\\n",
       "0                           0                          0            1   \n",
       "1                           0                          1            0   \n",
       "2                           0                          1            0   \n",
       "3                           0                          1            0   \n",
       "4                           0                          1            0   \n",
       "\n",
       "   Drug_No/No information  Drug_Yes  \n",
       "0                       1         0  \n",
       "1                       1         0  \n",
       "2                       1         0  \n",
       "3                       1         0  \n",
       "4                       1         0  \n",
       "\n",
       "[5 rows x 70 columns]"
      ]
     },
     "execution_count": 48,
     "metadata": {},
     "output_type": "execute_result"
    }
   ],
   "source": [
    "#Create dummy variables for independent variables\n",
    "Feature = df[['Age','Body_Part','Diagnosis','Location','Alcohol','Drug']]\n",
    "Feature = pd.concat([Feature,pd.get_dummies(Feature,columns=['Body_Part','Diagnosis','Location','Alcohol','Drug'])], axis=1)\n",
    "Feature = Feature.drop(columns=['Body_Part','Diagnosis','Location','Alcohol','Drug'])\n",
    "Feature.head()"
   ]
  },
  {
   "cell_type": "code",
   "execution_count": 49,
   "id": "dfd42442",
   "metadata": {},
   "outputs": [],
   "source": [
    "X = Feature\n",
    "X= preprocessing.StandardScaler().fit(X).transform(X)"
   ]
  },
  {
   "cell_type": "code",
   "execution_count": 50,
   "id": "d1cf5c14",
   "metadata": {},
   "outputs": [],
   "source": [
    "y = df['Disposition'].values"
   ]
  },
  {
   "cell_type": "code",
   "execution_count": 51,
   "id": "c47ae1b5",
   "metadata": {},
   "outputs": [
    {
     "name": "stdout",
     "output_type": "stream",
     "text": [
      "Train set: (221924, 70) (221924,)\n",
      "Test set: (55481, 70) (55481,)\n"
     ]
    }
   ],
   "source": [
    "#Split dataset into 80% test and 20% train sets\n",
    "X_train, X_test, y_train, y_test = train_test_split( X, y, test_size=0.2, random_state=4)\n",
    "print ('Train set:', X_train.shape,  y_train.shape)\n",
    "print ('Test set:', X_test.shape,  y_test.shape)"
   ]
  },
  {
   "cell_type": "markdown",
   "id": "903dcced",
   "metadata": {},
   "source": [
    "# ML Algorithhms"
   ]
  },
  {
   "cell_type": "markdown",
   "id": "1e20ceed",
   "metadata": {},
   "source": [
    "## K Nearest Neighbor Classification"
   ]
  },
  {
   "cell_type": "code",
   "execution_count": 28,
   "id": "b30478f7",
   "metadata": {},
   "outputs": [
    {
     "data": {
      "text/plain": [
       "array([0.85308484, 0.8828608 , 0.87785007, 0.89181882, 0.88898902,\n",
       "       0.89381951, 0.89239559, 0.89529749, 0.89394568, 0.89574809,\n",
       "       0.89524342, 0.89648709, 0.89616265, 0.89801914, 0.89709991,\n",
       "       0.89764063, 0.89720805, 0.89839765, 0.89796507, 0.8982895 ,\n",
       "       0.89794704, 0.89845172, 0.89855987, 0.89841567, 0.89780285,\n",
       "       0.89870406, 0.8984337 , 0.89855987, 0.89879418])"
      ]
     },
     "execution_count": 28,
     "metadata": {},
     "output_type": "execute_result"
    }
   ],
   "source": [
    "Ks = 30\n",
    "mean_acc = np.zeros((Ks-1))\n",
    "std_acc = np.zeros((Ks-1))\n",
    "\n",
    "for n in range(1,Ks):\n",
    "    \n",
    "    neigh = KNeighborsClassifier(n_neighbors = n).fit(X_train,y_train)\n",
    "    yhat=neigh.predict(X_test)\n",
    "    mean_acc[n-1] = metrics.accuracy_score(y_test, yhat)\n",
    "\n",
    "    std_acc[n-1]=np.std(yhat==y_test)/np.sqrt(yhat.shape[0])\n",
    "\n",
    "mean_acc"
   ]
  },
  {
   "cell_type": "code",
   "execution_count": 29,
   "id": "2b3169be",
   "metadata": {},
   "outputs": [
    {
     "data": {
      "image/png": "[encoded data removed]",
      "text/plain": [
       "<Figure size 432x288 with 1 Axes>"
      ]
     },
     "metadata": {
      "needs_background": "light"
     },
     "output_type": "display_data"
    }
   ],
   "source": [
    "plt.plot(range(1,Ks),mean_acc,'g')\n",
    "plt.fill_between(range(1,Ks),mean_acc - 1 * std_acc,mean_acc + 1 * std_acc, alpha=0.10)\n",
    "plt.fill_between(range(1,Ks),mean_acc - 3 * std_acc,mean_acc + 3 * std_acc, alpha=0.10,color=\"green\")\n",
    "plt.legend(('Accuracy ', '+/- 1xstd','+/- 3xstd'))\n",
    "plt.ylabel('Accuracy ')\n",
    "plt.xlabel('Number of Neighbors (K)')\n",
    "plt.tight_layout()\n",
    "plt.show()"
   ]
  },
  {
   "cell_type": "code",
   "execution_count": 30,
   "id": "e8101328",
   "metadata": {},
   "outputs": [
    {
     "name": "stdout",
     "output_type": "stream",
     "text": [
      "The best accuracy was with 0.8987941817919648 with k= 29\n"
     ]
    }
   ],
   "source": [
    "print( \"The best accuracy was with\", mean_acc.max(), \"with k=\", mean_acc.argmax()+1) "
   ]
  },
  {
   "cell_type": "markdown",
   "id": "eefc4ac8",
   "metadata": {},
   "source": [
    "## Decision Tree Classification"
   ]
  },
  {
   "cell_type": "code",
   "execution_count": 31,
   "id": "89e9c6e5",
   "metadata": {},
   "outputs": [
    {
     "name": "stdout",
     "output_type": "stream",
     "text": [
      "['Not severe' 'Not severe' 'Not severe' 'Not severe' 'Not severe']\n",
      "['Not severe' 'Severe' 'Not severe' 'Not severe' 'Not severe']\n"
     ]
    }
   ],
   "source": [
    "#Decision Tree Classification\n",
    "loanTree = DecisionTreeClassifier(criterion=\"entropy\", max_depth = 4)\n",
    "loanTree.fit(X_train,y_train)\n",
    "predTree = loanTree.predict(X_test)\n",
    "print (predTree [0:5])\n",
    "print (y_test [0:5])"
   ]
  },
  {
   "cell_type": "code",
   "execution_count": 32,
   "id": "2585b0d3",
   "metadata": {},
   "outputs": [
    {
     "name": "stdout",
     "output_type": "stream",
     "text": [
      "DecisionTrees's Accuracy:  0.8946486184459544\n"
     ]
    }
   ],
   "source": [
    "print(\"DecisionTrees's Accuracy: \", metrics.accuracy_score(y_test, predTree))"
   ]
  },
  {
   "cell_type": "markdown",
   "id": "d43b9918",
   "metadata": {},
   "source": [
    "## Logistic Regression"
   ]
  },
  {
   "cell_type": "code",
   "execution_count": 33,
   "id": "057ff331",
   "metadata": {},
   "outputs": [],
   "source": [
    "LR = LogisticRegression(C=0.01, solver='liblinear').fit(X_train,y_train)"
   ]
  },
  {
   "cell_type": "code",
   "execution_count": 34,
   "id": "a5e1cc61",
   "metadata": {},
   "outputs": [],
   "source": [
    "yhat = LR.predict(X_test)"
   ]
  },
  {
   "cell_type": "code",
   "execution_count": 35,
   "id": "0fb4a5c2",
   "metadata": {},
   "outputs": [
    {
     "name": "stdout",
     "output_type": "stream",
     "text": [
      "              precision    recall  f1-score   support\n",
      "\n",
      "  Not severe       0.91      0.98      0.94     48606\n",
      "      Severe       0.67      0.29      0.40      6875\n",
      "\n",
      "    accuracy                           0.89     55481\n",
      "   macro avg       0.79      0.63      0.67     55481\n",
      "weighted avg       0.88      0.89      0.88     55481\n",
      "\n",
      "0.2532873739308056\n"
     ]
    }
   ],
   "source": [
    "print (classification_report(y_test, yhat))\n",
    "yhat_prob = LR.predict_proba(X_test)\n",
    "print (jaccard_score(y_test, yhat,pos_label='Severe'))"
   ]
  },
  {
   "cell_type": "markdown",
   "id": "41ab2dd8",
   "metadata": {},
   "source": [
    "# Results"
   ]
  },
  {
   "cell_type": "markdown",
   "id": "c1529e2d",
   "metadata": {},
   "source": [
    "## Trial 1"
   ]
  },
  {
   "cell_type": "markdown",
   "id": "3c56fd5b",
   "metadata": {},
   "source": [
    "KNN\n",
    "- The best accuracy was with 0.8757412447504551 with k= 23\n",
    "\n",
    "Decision Tree\n",
    "- DecisionTrees's Accuracy:  0.8716858023467493"
   ]
  },
  {
   "cell_type": "markdown",
   "id": "4bc25726",
   "metadata": {},
   "source": [
    "## Trial 2"
   ]
  },
  {
   "cell_type": "markdown",
   "id": "7967cc73",
   "metadata": {},
   "source": [
    "KNN\n",
    "- The best accuracy was with 0.8987941817919648 with k= 29\n",
    "\n",
    "Decision Tree\n",
    "- DecisionTrees's Accuracy:  0.8946486184459544\n",
    "\n",
    "Logistic Regression\n",
    "- F1 score for \"Not Severe\" cases: 0.94\n",
    "- F1 score for \"Severe\" cases: 0.40\n",
    "- Accuracy: 0.89\n",
    "- Jaccard score for \"Severe\" cases: 0.25"
   ]
  },
  {
   "cell_type": "code",
   "execution_count": null,
   "id": "7f2c993b",
   "metadata": {},
   "outputs": [],
   "source": []
  }
 ],
 "metadata": {
  "kernelspec": {
   "display_name": "Python 3",
   "language": "python",
   "name": "python3"
  },
  "language_info": {
   "codemirror_mode": {
    "name": "ipython",
    "version": 3
   },
   "file_extension": ".py",
   "mimetype": "text/x-python",
   "name": "python",
   "nbconvert_exporter": "python",
   "pygments_lexer": "ipython3",
   "version": "3.8.8"
  }
 },
 "nbformat": 4,
 "nbformat_minor": 5
}
